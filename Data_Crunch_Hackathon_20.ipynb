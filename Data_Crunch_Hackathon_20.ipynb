{
  "nbformat": 4,
  "nbformat_minor": 0,
  "metadata": {
    "colab": {
      "name": "Data Crunch Hackathon 20.ipynb",
      "provenance": [],
      "collapsed_sections": [],
      "authorship_tag": "ABX9TyPktoOd5JtUrp+d1KZVY8X4",
      "include_colab_link": true
    },
    "kernelspec": {
      "name": "python3",
      "display_name": "Python 3"
    }
  },
  "cells": [
    {
      "cell_type": "markdown",
      "metadata": {
        "id": "view-in-github",
        "colab_type": "text"
      },
      "source": [
        "<a href=\"https://colab.research.google.com/github/Susheel06/Data-crunch-hackathon/blob/master/Data_Crunch_Hackathon_20.ipynb\" target=\"_parent\"><img src=\"https://colab.research.google.com/assets/colab-badge.svg\" alt=\"Open In Colab\"/></a>"
      ]
    },
    {
      "cell_type": "code",
      "metadata": {
        "id": "lPkDhKoPzW8d",
        "colab_type": "code",
        "colab": {}
      },
      "source": [
        "# !pip install pandas-profiling"
      ],
      "execution_count": null,
      "outputs": []
    },
    {
      "cell_type": "code",
      "metadata": {
        "id": "ASMmCb0SzyoN",
        "colab_type": "code",
        "colab": {}
      },
      "source": [
        "import numpy as np\n",
        "import pandas as pd\n",
        "from pandas_profiling import ProfileReport\n",
        "import matplotlib.pyplot as plt\n",
        "import seaborn as sns\n",
        "import sklearn\n",
        "import scipy\n",
        "import pandas.util.testing as tm"
      ],
      "execution_count": null,
      "outputs": []
    },
    {
      "cell_type": "code",
      "metadata": {
        "id": "X3ahYBkAz9ef",
        "colab_type": "code",
        "colab": {
          "base_uri": "https://localhost:8080/",
          "height": 326
        },
        "outputId": "bd131af4-3178-4d1a-aae7-979c6ce15389"
      },
      "source": [
        "train = pd.read_csv('train.csv')\n",
        "print(train.shape)\n",
        "train.head()"
      ],
      "execution_count": null,
      "outputs": [
        {
          "output_type": "stream",
          "text": [
            "(60804, 18)\n"
          ],
          "name": "stdout"
        },
        {
          "output_type": "execute_result",
          "data": {
            "text/html": [
              "<div>\n",
              "<style scoped>\n",
              "    .dataframe tbody tr th:only-of-type {\n",
              "        vertical-align: middle;\n",
              "    }\n",
              "\n",
              "    .dataframe tbody tr th {\n",
              "        vertical-align: top;\n",
              "    }\n",
              "\n",
              "    .dataframe thead th {\n",
              "        text-align: right;\n",
              "    }\n",
              "</style>\n",
              "<table border=\"1\" class=\"dataframe\">\n",
              "  <thead>\n",
              "    <tr style=\"text-align: right;\">\n",
              "      <th></th>\n",
              "      <th>Loan.ID</th>\n",
              "      <th>Current.Loan.Amount</th>\n",
              "      <th>Term</th>\n",
              "      <th>Credit.Score</th>\n",
              "      <th>Years.in.current.job</th>\n",
              "      <th>Home.Ownership</th>\n",
              "      <th>Annual.Income</th>\n",
              "      <th>Purpose</th>\n",
              "      <th>Monthly.Debt</th>\n",
              "      <th>Years.of.Credit.History</th>\n",
              "      <th>Months.since.last.delinquent</th>\n",
              "      <th>Number.of.Open.Accounts</th>\n",
              "      <th>Number.of.Credit.Problems</th>\n",
              "      <th>Current.Credit.Balance</th>\n",
              "      <th>Maximum.Open.Credit</th>\n",
              "      <th>Bankruptcies</th>\n",
              "      <th>Tax.Liens</th>\n",
              "      <th>Loan.Status</th>\n",
              "    </tr>\n",
              "  </thead>\n",
              "  <tbody>\n",
              "    <tr>\n",
              "      <th>0</th>\n",
              "      <td>0</td>\n",
              "      <td>17879</td>\n",
              "      <td>Short Term</td>\n",
              "      <td>739.0</td>\n",
              "      <td>6 years</td>\n",
              "      <td>Home Mortgage</td>\n",
              "      <td>95357.0</td>\n",
              "      <td>Debt Consolidation</td>\n",
              "      <td>1509.82</td>\n",
              "      <td>34.4</td>\n",
              "      <td>5.0</td>\n",
              "      <td>26</td>\n",
              "      <td>0</td>\n",
              "      <td>23986</td>\n",
              "      <td>40313</td>\n",
              "      <td>0.0</td>\n",
              "      <td>0.0</td>\n",
              "      <td>1</td>\n",
              "    </tr>\n",
              "    <tr>\n",
              "      <th>1</th>\n",
              "      <td>1</td>\n",
              "      <td>99999999</td>\n",
              "      <td>Long Term</td>\n",
              "      <td>619.0</td>\n",
              "      <td>6 years</td>\n",
              "      <td>Rent</td>\n",
              "      <td>54406.0</td>\n",
              "      <td>Debt Consolidation</td>\n",
              "      <td>1065.45</td>\n",
              "      <td>12.7</td>\n",
              "      <td>NaN</td>\n",
              "      <td>8</td>\n",
              "      <td>0</td>\n",
              "      <td>22938</td>\n",
              "      <td>31250</td>\n",
              "      <td>0.0</td>\n",
              "      <td>0.0</td>\n",
              "      <td>1</td>\n",
              "    </tr>\n",
              "    <tr>\n",
              "      <th>2</th>\n",
              "      <td>3</td>\n",
              "      <td>99999999</td>\n",
              "      <td>Short Term</td>\n",
              "      <td>738.0</td>\n",
              "      <td>less than  1 year</td>\n",
              "      <td>Rent</td>\n",
              "      <td>40480.0</td>\n",
              "      <td>Medical Bills</td>\n",
              "      <td>573.47</td>\n",
              "      <td>32.7</td>\n",
              "      <td>60.0</td>\n",
              "      <td>9</td>\n",
              "      <td>1</td>\n",
              "      <td>3963</td>\n",
              "      <td>5669</td>\n",
              "      <td>1.0</td>\n",
              "      <td>0.0</td>\n",
              "      <td>1</td>\n",
              "    </tr>\n",
              "    <tr>\n",
              "      <th>3</th>\n",
              "      <td>4</td>\n",
              "      <td>11200</td>\n",
              "      <td>Short Term</td>\n",
              "      <td>738.0</td>\n",
              "      <td>4 years</td>\n",
              "      <td>Rent</td>\n",
              "      <td>53965.0</td>\n",
              "      <td>Debt Consolidation</td>\n",
              "      <td>1358.11</td>\n",
              "      <td>15.8</td>\n",
              "      <td>NaN</td>\n",
              "      <td>8</td>\n",
              "      <td>1</td>\n",
              "      <td>11782</td>\n",
              "      <td>25951</td>\n",
              "      <td>1.0</td>\n",
              "      <td>0.0</td>\n",
              "      <td>1</td>\n",
              "    </tr>\n",
              "    <tr>\n",
              "      <th>4</th>\n",
              "      <td>5</td>\n",
              "      <td>3608</td>\n",
              "      <td>Short Term</td>\n",
              "      <td>731.0</td>\n",
              "      <td>10+ years</td>\n",
              "      <td>Home Mortgage</td>\n",
              "      <td>47709.0</td>\n",
              "      <td>Home Improvements</td>\n",
              "      <td>339.93</td>\n",
              "      <td>16.1</td>\n",
              "      <td>47.0</td>\n",
              "      <td>6</td>\n",
              "      <td>0</td>\n",
              "      <td>22909</td>\n",
              "      <td>25568</td>\n",
              "      <td>0.0</td>\n",
              "      <td>0.0</td>\n",
              "      <td>1</td>\n",
              "    </tr>\n",
              "  </tbody>\n",
              "</table>\n",
              "</div>"
            ],
            "text/plain": [
              "   Loan.ID  Current.Loan.Amount  ... Tax.Liens  Loan.Status\n",
              "0        0                17879  ...       0.0            1\n",
              "1        1             99999999  ...       0.0            1\n",
              "2        3             99999999  ...       0.0            1\n",
              "3        4                11200  ...       0.0            1\n",
              "4        5                 3608  ...       0.0            1\n",
              "\n",
              "[5 rows x 18 columns]"
            ]
          },
          "metadata": {
            "tags": []
          },
          "execution_count": 164
        }
      ]
    },
    {
      "cell_type": "code",
      "metadata": {
        "id": "I2wCVI-b0Ymu",
        "colab_type": "code",
        "colab": {
          "base_uri": "https://localhost:8080/",
          "height": 317
        },
        "outputId": "7c960570-4933-454c-8572-6d8732c7c8f8"
      },
      "source": [
        "train.describe()"
      ],
      "execution_count": null,
      "outputs": [
        {
          "output_type": "execute_result",
          "data": {
            "text/html": [
              "<div>\n",
              "<style scoped>\n",
              "    .dataframe tbody tr th:only-of-type {\n",
              "        vertical-align: middle;\n",
              "    }\n",
              "\n",
              "    .dataframe tbody tr th {\n",
              "        vertical-align: top;\n",
              "    }\n",
              "\n",
              "    .dataframe thead th {\n",
              "        text-align: right;\n",
              "    }\n",
              "</style>\n",
              "<table border=\"1\" class=\"dataframe\">\n",
              "  <thead>\n",
              "    <tr style=\"text-align: right;\">\n",
              "      <th></th>\n",
              "      <th>Loan.ID</th>\n",
              "      <th>Current.Loan.Amount</th>\n",
              "      <th>Credit.Score</th>\n",
              "      <th>Annual.Income</th>\n",
              "      <th>Monthly.Debt</th>\n",
              "      <th>Years.of.Credit.History</th>\n",
              "      <th>Months.since.last.delinquent</th>\n",
              "      <th>Number.of.Open.Accounts</th>\n",
              "      <th>Number.of.Credit.Problems</th>\n",
              "      <th>Current.Credit.Balance</th>\n",
              "      <th>Maximum.Open.Credit</th>\n",
              "      <th>Bankruptcies</th>\n",
              "      <th>Tax.Liens</th>\n",
              "      <th>Loan.Status</th>\n",
              "    </tr>\n",
              "  </thead>\n",
              "  <tbody>\n",
              "    <tr>\n",
              "      <th>count</th>\n",
              "      <td>60804.000000</td>\n",
              "      <td>6.080400e+04</td>\n",
              "      <td>48575.000000</td>\n",
              "      <td>4.857500e+04</td>\n",
              "      <td>60804.00000</td>\n",
              "      <td>60804.000000</td>\n",
              "      <td>28329.000000</td>\n",
              "      <td>60804.000000</td>\n",
              "      <td>60804.000000</td>\n",
              "      <td>60804.000000</td>\n",
              "      <td>6.080400e+04</td>\n",
              "      <td>60677.000000</td>\n",
              "      <td>60802.00000</td>\n",
              "      <td>60804.000000</td>\n",
              "    </tr>\n",
              "    <tr>\n",
              "      <th>mean</th>\n",
              "      <td>42094.538451</td>\n",
              "      <td>1.217772e+07</td>\n",
              "      <td>1104.772331</td>\n",
              "      <td>7.252253e+04</td>\n",
              "      <td>967.75930</td>\n",
              "      <td>18.235654</td>\n",
              "      <td>34.859402</td>\n",
              "      <td>11.113397</td>\n",
              "      <td>0.165861</td>\n",
              "      <td>15430.033863</td>\n",
              "      <td>3.316369e+04</td>\n",
              "      <td>0.115645</td>\n",
              "      <td>0.02870</td>\n",
              "      <td>0.759457</td>\n",
              "    </tr>\n",
              "    <tr>\n",
              "      <th>std</th>\n",
              "      <td>24303.803897</td>\n",
              "      <td>3.268413e+07</td>\n",
              "      <td>1526.402013</td>\n",
              "      <td>6.246093e+04</td>\n",
              "      <td>631.18808</td>\n",
              "      <td>7.030016</td>\n",
              "      <td>21.976407</td>\n",
              "      <td>4.993859</td>\n",
              "      <td>0.479679</td>\n",
              "      <td>18906.126169</td>\n",
              "      <td>2.155779e+05</td>\n",
              "      <td>0.346800</td>\n",
              "      <td>0.25697</td>\n",
              "      <td>0.427417</td>\n",
              "    </tr>\n",
              "    <tr>\n",
              "      <th>min</th>\n",
              "      <td>0.000000</td>\n",
              "      <td>4.910000e+02</td>\n",
              "      <td>585.000000</td>\n",
              "      <td>4.268000e+03</td>\n",
              "      <td>0.00000</td>\n",
              "      <td>3.600000</td>\n",
              "      <td>0.000000</td>\n",
              "      <td>0.000000</td>\n",
              "      <td>0.000000</td>\n",
              "      <td>0.000000</td>\n",
              "      <td>0.000000e+00</td>\n",
              "      <td>0.000000</td>\n",
              "      <td>0.00000</td>\n",
              "      <td>0.000000</td>\n",
              "    </tr>\n",
              "    <tr>\n",
              "      <th>25%</th>\n",
              "      <td>21046.750000</td>\n",
              "      <td>8.167750e+03</td>\n",
              "      <td>707.000000</td>\n",
              "      <td>4.470300e+04</td>\n",
              "      <td>536.78750</td>\n",
              "      <td>13.500000</td>\n",
              "      <td>16.000000</td>\n",
              "      <td>8.000000</td>\n",
              "      <td>0.000000</td>\n",
              "      <td>5907.750000</td>\n",
              "      <td>1.252175e+04</td>\n",
              "      <td>0.000000</td>\n",
              "      <td>0.00000</td>\n",
              "      <td>1.000000</td>\n",
              "    </tr>\n",
              "    <tr>\n",
              "      <th>50%</th>\n",
              "      <td>42094.500000</td>\n",
              "      <td>1.424000e+04</td>\n",
              "      <td>726.000000</td>\n",
              "      <td>6.157600e+04</td>\n",
              "      <td>851.81000</td>\n",
              "      <td>17.000000</td>\n",
              "      <td>32.000000</td>\n",
              "      <td>10.000000</td>\n",
              "      <td>0.000000</td>\n",
              "      <td>10995.000000</td>\n",
              "      <td>2.130700e+04</td>\n",
              "      <td>0.000000</td>\n",
              "      <td>0.00000</td>\n",
              "      <td>1.000000</td>\n",
              "    </tr>\n",
              "    <tr>\n",
              "      <th>75%</th>\n",
              "      <td>63142.250000</td>\n",
              "      <td>2.402325e+04</td>\n",
              "      <td>741.000000</td>\n",
              "      <td>8.681950e+04</td>\n",
              "      <td>1259.65250</td>\n",
              "      <td>21.700000</td>\n",
              "      <td>51.000000</td>\n",
              "      <td>14.000000</td>\n",
              "      <td>0.000000</td>\n",
              "      <td>19321.000000</td>\n",
              "      <td>3.574025e+04</td>\n",
              "      <td>0.000000</td>\n",
              "      <td>0.00000</td>\n",
              "      <td>1.000000</td>\n",
              "    </tr>\n",
              "    <tr>\n",
              "      <th>max</th>\n",
              "      <td>84189.000000</td>\n",
              "      <td>1.000000e+08</td>\n",
              "      <td>7510.000000</td>\n",
              "      <td>8.713547e+06</td>\n",
              "      <td>9060.85000</td>\n",
              "      <td>60.500000</td>\n",
              "      <td>176.000000</td>\n",
              "      <td>76.000000</td>\n",
              "      <td>15.000000</td>\n",
              "      <td>854602.000000</td>\n",
              "      <td>3.628434e+07</td>\n",
              "      <td>6.000000</td>\n",
              "      <td>15.00000</td>\n",
              "      <td>1.000000</td>\n",
              "    </tr>\n",
              "  </tbody>\n",
              "</table>\n",
              "</div>"
            ],
            "text/plain": [
              "            Loan.ID  Current.Loan.Amount  ...    Tax.Liens   Loan.Status\n",
              "count  60804.000000         6.080400e+04  ...  60802.00000  60804.000000\n",
              "mean   42094.538451         1.217772e+07  ...      0.02870      0.759457\n",
              "std    24303.803897         3.268413e+07  ...      0.25697      0.427417\n",
              "min        0.000000         4.910000e+02  ...      0.00000      0.000000\n",
              "25%    21046.750000         8.167750e+03  ...      0.00000      1.000000\n",
              "50%    42094.500000         1.424000e+04  ...      0.00000      1.000000\n",
              "75%    63142.250000         2.402325e+04  ...      0.00000      1.000000\n",
              "max    84189.000000         1.000000e+08  ...     15.00000      1.000000\n",
              "\n",
              "[8 rows x 14 columns]"
            ]
          },
          "metadata": {
            "tags": []
          },
          "execution_count": 165
        }
      ]
    },
    {
      "cell_type": "code",
      "metadata": {
        "id": "kPWGGwYZ1YGg",
        "colab_type": "code",
        "colab": {
          "base_uri": "https://localhost:8080/",
          "height": 326
        },
        "outputId": "4ae9bb51-d536-429f-c573-eb8f614d6b89"
      },
      "source": [
        "# making a bool series \n",
        "bool_series = train['Loan.ID'].duplicated(keep = False) \n",
        "  \n",
        "# bool series \n",
        "bool_series \n",
        "  \n",
        "# passing NOT of bool series to see unique values only \n",
        "train = train[~bool_series] \n",
        "\n",
        "print(train.shape)\n",
        "\n",
        "train.head()"
      ],
      "execution_count": null,
      "outputs": [
        {
          "output_type": "stream",
          "text": [
            "(60804, 18)\n"
          ],
          "name": "stdout"
        },
        {
          "output_type": "execute_result",
          "data": {
            "text/html": [
              "<div>\n",
              "<style scoped>\n",
              "    .dataframe tbody tr th:only-of-type {\n",
              "        vertical-align: middle;\n",
              "    }\n",
              "\n",
              "    .dataframe tbody tr th {\n",
              "        vertical-align: top;\n",
              "    }\n",
              "\n",
              "    .dataframe thead th {\n",
              "        text-align: right;\n",
              "    }\n",
              "</style>\n",
              "<table border=\"1\" class=\"dataframe\">\n",
              "  <thead>\n",
              "    <tr style=\"text-align: right;\">\n",
              "      <th></th>\n",
              "      <th>Loan.ID</th>\n",
              "      <th>Current.Loan.Amount</th>\n",
              "      <th>Term</th>\n",
              "      <th>Credit.Score</th>\n",
              "      <th>Years.in.current.job</th>\n",
              "      <th>Home.Ownership</th>\n",
              "      <th>Annual.Income</th>\n",
              "      <th>Purpose</th>\n",
              "      <th>Monthly.Debt</th>\n",
              "      <th>Years.of.Credit.History</th>\n",
              "      <th>Months.since.last.delinquent</th>\n",
              "      <th>Number.of.Open.Accounts</th>\n",
              "      <th>Number.of.Credit.Problems</th>\n",
              "      <th>Current.Credit.Balance</th>\n",
              "      <th>Maximum.Open.Credit</th>\n",
              "      <th>Bankruptcies</th>\n",
              "      <th>Tax.Liens</th>\n",
              "      <th>Loan.Status</th>\n",
              "    </tr>\n",
              "  </thead>\n",
              "  <tbody>\n",
              "    <tr>\n",
              "      <th>0</th>\n",
              "      <td>0</td>\n",
              "      <td>17879</td>\n",
              "      <td>Short Term</td>\n",
              "      <td>739.0</td>\n",
              "      <td>6 years</td>\n",
              "      <td>Home Mortgage</td>\n",
              "      <td>95357.0</td>\n",
              "      <td>Debt Consolidation</td>\n",
              "      <td>1509.82</td>\n",
              "      <td>34.4</td>\n",
              "      <td>5.0</td>\n",
              "      <td>26</td>\n",
              "      <td>0</td>\n",
              "      <td>23986</td>\n",
              "      <td>40313</td>\n",
              "      <td>0.0</td>\n",
              "      <td>0.0</td>\n",
              "      <td>1</td>\n",
              "    </tr>\n",
              "    <tr>\n",
              "      <th>1</th>\n",
              "      <td>1</td>\n",
              "      <td>99999999</td>\n",
              "      <td>Long Term</td>\n",
              "      <td>619.0</td>\n",
              "      <td>6 years</td>\n",
              "      <td>Rent</td>\n",
              "      <td>54406.0</td>\n",
              "      <td>Debt Consolidation</td>\n",
              "      <td>1065.45</td>\n",
              "      <td>12.7</td>\n",
              "      <td>NaN</td>\n",
              "      <td>8</td>\n",
              "      <td>0</td>\n",
              "      <td>22938</td>\n",
              "      <td>31250</td>\n",
              "      <td>0.0</td>\n",
              "      <td>0.0</td>\n",
              "      <td>1</td>\n",
              "    </tr>\n",
              "    <tr>\n",
              "      <th>2</th>\n",
              "      <td>3</td>\n",
              "      <td>99999999</td>\n",
              "      <td>Short Term</td>\n",
              "      <td>738.0</td>\n",
              "      <td>less than  1 year</td>\n",
              "      <td>Rent</td>\n",
              "      <td>40480.0</td>\n",
              "      <td>Medical Bills</td>\n",
              "      <td>573.47</td>\n",
              "      <td>32.7</td>\n",
              "      <td>60.0</td>\n",
              "      <td>9</td>\n",
              "      <td>1</td>\n",
              "      <td>3963</td>\n",
              "      <td>5669</td>\n",
              "      <td>1.0</td>\n",
              "      <td>0.0</td>\n",
              "      <td>1</td>\n",
              "    </tr>\n",
              "    <tr>\n",
              "      <th>3</th>\n",
              "      <td>4</td>\n",
              "      <td>11200</td>\n",
              "      <td>Short Term</td>\n",
              "      <td>738.0</td>\n",
              "      <td>4 years</td>\n",
              "      <td>Rent</td>\n",
              "      <td>53965.0</td>\n",
              "      <td>Debt Consolidation</td>\n",
              "      <td>1358.11</td>\n",
              "      <td>15.8</td>\n",
              "      <td>NaN</td>\n",
              "      <td>8</td>\n",
              "      <td>1</td>\n",
              "      <td>11782</td>\n",
              "      <td>25951</td>\n",
              "      <td>1.0</td>\n",
              "      <td>0.0</td>\n",
              "      <td>1</td>\n",
              "    </tr>\n",
              "    <tr>\n",
              "      <th>4</th>\n",
              "      <td>5</td>\n",
              "      <td>3608</td>\n",
              "      <td>Short Term</td>\n",
              "      <td>731.0</td>\n",
              "      <td>10+ years</td>\n",
              "      <td>Home Mortgage</td>\n",
              "      <td>47709.0</td>\n",
              "      <td>Home Improvements</td>\n",
              "      <td>339.93</td>\n",
              "      <td>16.1</td>\n",
              "      <td>47.0</td>\n",
              "      <td>6</td>\n",
              "      <td>0</td>\n",
              "      <td>22909</td>\n",
              "      <td>25568</td>\n",
              "      <td>0.0</td>\n",
              "      <td>0.0</td>\n",
              "      <td>1</td>\n",
              "    </tr>\n",
              "  </tbody>\n",
              "</table>\n",
              "</div>"
            ],
            "text/plain": [
              "   Loan.ID  Current.Loan.Amount  ... Tax.Liens  Loan.Status\n",
              "0        0                17879  ...       0.0            1\n",
              "1        1             99999999  ...       0.0            1\n",
              "2        3             99999999  ...       0.0            1\n",
              "3        4                11200  ...       0.0            1\n",
              "4        5                 3608  ...       0.0            1\n",
              "\n",
              "[5 rows x 18 columns]"
            ]
          },
          "metadata": {
            "tags": []
          },
          "execution_count": 166
        }
      ]
    },
    {
      "cell_type": "code",
      "metadata": {
        "id": "Vc0ugZXf5DSF",
        "colab_type": "code",
        "colab": {
          "base_uri": "https://localhost:8080/",
          "height": 380
        },
        "outputId": "199d3abd-feb5-49fb-bb49-838ef2d444b6"
      },
      "source": [
        "# sns.set(style=\"whitegrid\")\n",
        "# sns.boxplot(x=train['Current.Loan.Amount'])\n",
        "\n",
        "plt.hist(x=train['Current.Loan.Amount'])"
      ],
      "execution_count": null,
      "outputs": [
        {
          "output_type": "execute_result",
          "data": {
            "text/plain": [
              "(array([53407.,     0.,     0.,     0.,     0.,     0.,     0.,     0.,\n",
              "            0.,  7397.]),\n",
              " array([4.91000000e+02, 1.00004418e+07, 2.00003926e+07, 3.00003434e+07,\n",
              "        4.00002942e+07, 5.00002450e+07, 6.00001958e+07, 7.00001466e+07,\n",
              "        8.00000974e+07, 9.00000482e+07, 9.99999990e+07]),\n",
              " <a list of 10 Patch objects>)"
            ]
          },
          "metadata": {
            "tags": []
          },
          "execution_count": 167
        },
        {
          "output_type": "display_data",
          "data": {
            "image/png": "[encoded data removed]",
            "text/plain": [
              "<Figure size 432x288 with 1 Axes>"
            ]
          },
          "metadata": {
            "tags": [],
            "needs_background": "light"
          }
        }
      ]
    },
    {
      "cell_type": "code",
      "metadata": {
        "id": "uYT6iU-eEfMH",
        "colab_type": "code",
        "colab": {
          "base_uri": "https://localhost:8080/",
          "height": 557
        },
        "outputId": "f8f834ee-fd58-4f32-822c-992e3420d970"
      },
      "source": [
        "train['Current.Loan.Amount'] = train['Current.Loan.Amount'].apply(np.log)\n",
        "# sns.set(style=\"whitegrid\")\n",
        "# plt.figure()\n",
        "# sns.boxplot(x=train['Current.Loan.Amount'])\n",
        "plt.figure()\n",
        "plt.hist(x=train['Current.Loan.Amount'])\n",
        "train.head()"
      ],
      "execution_count": null,
      "outputs": [
        {
          "output_type": "execute_result",
          "data": {
            "text/html": [
              "<div>\n",
              "<style scoped>\n",
              "    .dataframe tbody tr th:only-of-type {\n",
              "        vertical-align: middle;\n",
              "    }\n",
              "\n",
              "    .dataframe tbody tr th {\n",
              "        vertical-align: top;\n",
              "    }\n",
              "\n",
              "    .dataframe thead th {\n",
              "        text-align: right;\n",
              "    }\n",
              "</style>\n",
              "<table border=\"1\" class=\"dataframe\">\n",
              "  <thead>\n",
              "    <tr style=\"text-align: right;\">\n",
              "      <th></th>\n",
              "      <th>Loan.ID</th>\n",
              "      <th>Current.Loan.Amount</th>\n",
              "      <th>Term</th>\n",
              "      <th>Credit.Score</th>\n",
              "      <th>Years.in.current.job</th>\n",
              "      <th>Home.Ownership</th>\n",
              "      <th>Annual.Income</th>\n",
              "      <th>Purpose</th>\n",
              "      <th>Monthly.Debt</th>\n",
              "      <th>Years.of.Credit.History</th>\n",
              "      <th>Months.since.last.delinquent</th>\n",
              "      <th>Number.of.Open.Accounts</th>\n",
              "      <th>Number.of.Credit.Problems</th>\n",
              "      <th>Current.Credit.Balance</th>\n",
              "      <th>Maximum.Open.Credit</th>\n",
              "      <th>Bankruptcies</th>\n",
              "      <th>Tax.Liens</th>\n",
              "      <th>Loan.Status</th>\n",
              "    </tr>\n",
              "  </thead>\n",
              "  <tbody>\n",
              "    <tr>\n",
              "      <th>0</th>\n",
              "      <td>0</td>\n",
              "      <td>9.791382</td>\n",
              "      <td>Short Term</td>\n",
              "      <td>739.0</td>\n",
              "      <td>6 years</td>\n",
              "      <td>Home Mortgage</td>\n",
              "      <td>95357.0</td>\n",
              "      <td>Debt Consolidation</td>\n",
              "      <td>1509.82</td>\n",
              "      <td>34.4</td>\n",
              "      <td>5.0</td>\n",
              "      <td>26</td>\n",
              "      <td>0</td>\n",
              "      <td>23986</td>\n",
              "      <td>40313</td>\n",
              "      <td>0.0</td>\n",
              "      <td>0.0</td>\n",
              "      <td>1</td>\n",
              "    </tr>\n",
              "    <tr>\n",
              "      <th>1</th>\n",
              "      <td>1</td>\n",
              "      <td>18.420681</td>\n",
              "      <td>Long Term</td>\n",
              "      <td>619.0</td>\n",
              "      <td>6 years</td>\n",
              "      <td>Rent</td>\n",
              "      <td>54406.0</td>\n",
              "      <td>Debt Consolidation</td>\n",
              "      <td>1065.45</td>\n",
              "      <td>12.7</td>\n",
              "      <td>NaN</td>\n",
              "      <td>8</td>\n",
              "      <td>0</td>\n",
              "      <td>22938</td>\n",
              "      <td>31250</td>\n",
              "      <td>0.0</td>\n",
              "      <td>0.0</td>\n",
              "      <td>1</td>\n",
              "    </tr>\n",
              "    <tr>\n",
              "      <th>2</th>\n",
              "      <td>3</td>\n",
              "      <td>18.420681</td>\n",
              "      <td>Short Term</td>\n",
              "      <td>738.0</td>\n",
              "      <td>less than  1 year</td>\n",
              "      <td>Rent</td>\n",
              "      <td>40480.0</td>\n",
              "      <td>Medical Bills</td>\n",
              "      <td>573.47</td>\n",
              "      <td>32.7</td>\n",
              "      <td>60.0</td>\n",
              "      <td>9</td>\n",
              "      <td>1</td>\n",
              "      <td>3963</td>\n",
              "      <td>5669</td>\n",
              "      <td>1.0</td>\n",
              "      <td>0.0</td>\n",
              "      <td>1</td>\n",
              "    </tr>\n",
              "    <tr>\n",
              "      <th>3</th>\n",
              "      <td>4</td>\n",
              "      <td>9.323669</td>\n",
              "      <td>Short Term</td>\n",
              "      <td>738.0</td>\n",
              "      <td>4 years</td>\n",
              "      <td>Rent</td>\n",
              "      <td>53965.0</td>\n",
              "      <td>Debt Consolidation</td>\n",
              "      <td>1358.11</td>\n",
              "      <td>15.8</td>\n",
              "      <td>NaN</td>\n",
              "      <td>8</td>\n",
              "      <td>1</td>\n",
              "      <td>11782</td>\n",
              "      <td>25951</td>\n",
              "      <td>1.0</td>\n",
              "      <td>0.0</td>\n",
              "      <td>1</td>\n",
              "    </tr>\n",
              "    <tr>\n",
              "      <th>4</th>\n",
              "      <td>5</td>\n",
              "      <td>8.190909</td>\n",
              "      <td>Short Term</td>\n",
              "      <td>731.0</td>\n",
              "      <td>10+ years</td>\n",
              "      <td>Home Mortgage</td>\n",
              "      <td>47709.0</td>\n",
              "      <td>Home Improvements</td>\n",
              "      <td>339.93</td>\n",
              "      <td>16.1</td>\n",
              "      <td>47.0</td>\n",
              "      <td>6</td>\n",
              "      <td>0</td>\n",
              "      <td>22909</td>\n",
              "      <td>25568</td>\n",
              "      <td>0.0</td>\n",
              "      <td>0.0</td>\n",
              "      <td>1</td>\n",
              "    </tr>\n",
              "  </tbody>\n",
              "</table>\n",
              "</div>"
            ],
            "text/plain": [
              "   Loan.ID  Current.Loan.Amount  ... Tax.Liens  Loan.Status\n",
              "0        0             9.791382  ...       0.0            1\n",
              "1        1            18.420681  ...       0.0            1\n",
              "2        3            18.420681  ...       0.0            1\n",
              "3        4             9.323669  ...       0.0            1\n",
              "4        5             8.190909  ...       0.0            1\n",
              "\n",
              "[5 rows x 18 columns]"
            ]
          },
          "metadata": {
            "tags": []
          },
          "execution_count": 168
        },
        {
          "output_type": "display_data",
          "data": {
            "image/png": "[encoded data removed]",
            "text/plain": [
              "<Figure size 432x288 with 1 Axes>"
            ]
          },
          "metadata": {
            "tags": [],
            "needs_background": "light"
          }
        }
      ]
    },
    {
      "cell_type": "code",
      "metadata": {
        "id": "SrjBuawY5M_s",
        "colab_type": "code",
        "colab": {
          "base_uri": "https://localhost:8080/",
          "height": 417
        },
        "outputId": "cfca8832-37aa-4682-e93d-aaa681b8f923"
      },
      "source": [
        "plt.figure()\n",
        "sns.heatmap(train.isnull(),yticklabels=False,cbar=False,cmap='viridis')"
      ],
      "execution_count": null,
      "outputs": [
        {
          "output_type": "execute_result",
          "data": {
            "text/plain": [
              "<matplotlib.axes._subplots.AxesSubplot at 0x7f2f4023f828>"
            ]
          },
          "metadata": {
            "tags": []
          },
          "execution_count": 169
        },
        {
          "output_type": "display_data",
          "data": {
            "image/png": "[encoded data removed]",
            "text/plain": [
              "<Figure size 432x288 with 1 Axes>"
            ]
          },
          "metadata": {
            "tags": [],
            "needs_background": "light"
          }
        }
      ]
    },
    {
      "cell_type": "code",
      "metadata": {
        "id": "5wutVuke-9co",
        "colab_type": "code",
        "colab": {
          "base_uri": "https://localhost:8080/",
          "height": 34
        },
        "outputId": "1ad69123-ba34-4ea8-8d8c-bc941b93ca6b"
      },
      "source": [
        "train.drop(['Months.since.last.delinquent'], axis=1, inplace=True)\n",
        "train.shape"
      ],
      "execution_count": null,
      "outputs": [
        {
          "output_type": "execute_result",
          "data": {
            "text/plain": [
              "(60804, 17)"
            ]
          },
          "metadata": {
            "tags": []
          },
          "execution_count": 170
        }
      ]
    },
    {
      "cell_type": "code",
      "metadata": {
        "id": "BjEmb7RtKIgt",
        "colab_type": "code",
        "colab": {
          "base_uri": "https://localhost:8080/",
          "height": 136
        },
        "outputId": "24b49584-71c9-40ab-d56c-b8b34850ef91"
      },
      "source": [
        "print(np.mean(train['Credit.Score']))\n",
        "mean_credit_score = np.mean(train['Credit.Score'])\n",
        "\n",
        "y=train['Credit.Score']\n",
        "train['Loan.ID'].tail()\n",
        "\n",
        "# plt.scatter(x, y, linewidths=0.1)"
      ],
      "execution_count": null,
      "outputs": [
        {
          "output_type": "stream",
          "text": [
            "1104.772331446217\n"
          ],
          "name": "stdout"
        },
        {
          "output_type": "execute_result",
          "data": {
            "text/plain": [
              "60799    84184\n",
              "60800    84185\n",
              "60801    84186\n",
              "60802    84187\n",
              "60803    84189\n",
              "Name: Loan.ID, dtype: int64"
            ]
          },
          "metadata": {
            "tags": []
          },
          "execution_count": 171
        }
      ]
    },
    {
      "cell_type": "code",
      "metadata": {
        "id": "oXaP3-lpOe-q",
        "colab_type": "code",
        "colab": {}
      },
      "source": [
        "train['Credit.Score'].fillna(mean_credit_score, inplace=True)"
      ],
      "execution_count": null,
      "outputs": []
    },
    {
      "cell_type": "code",
      "metadata": {
        "id": "G1Kn_0T5TlPL",
        "colab_type": "code",
        "colab": {}
      },
      "source": [
        "train.dropna(subset=['Years.in.current.job'], inplace=True)"
      ],
      "execution_count": null,
      "outputs": []
    },
    {
      "cell_type": "code",
      "metadata": {
        "id": "sGObt2IWfTZv",
        "colab_type": "code",
        "colab": {
          "base_uri": "https://localhost:8080/",
          "height": 34
        },
        "outputId": "0dc1d774-117c-4b9b-88a4-6797bd599425"
      },
      "source": [
        "train.shape"
      ],
      "execution_count": null,
      "outputs": [
        {
          "output_type": "execute_result",
          "data": {
            "text/plain": [
              "(58275, 17)"
            ]
          },
          "metadata": {
            "tags": []
          },
          "execution_count": 174
        }
      ]
    },
    {
      "cell_type": "code",
      "metadata": {
        "id": "5DR7yArtbTXo",
        "colab_type": "code",
        "colab": {
          "base_uri": "https://localhost:8080/",
          "height": 406
        },
        "outputId": "888d7985-5a51-421c-d33b-1f506fb590f4"
      },
      "source": [
        "plt.figure()\n",
        "sns.heatmap(train.isnull(),yticklabels=False,cbar=False,cmap='viridis')"
      ],
      "execution_count": null,
      "outputs": [
        {
          "output_type": "execute_result",
          "data": {
            "text/plain": [
              "<matplotlib.axes._subplots.AxesSubplot at 0x7f2f400c5cc0>"
            ]
          },
          "metadata": {
            "tags": []
          },
          "execution_count": 175
        },
        {
          "output_type": "display_data",
          "data": {
            "image/png": "[encoded data removed]",
            "text/plain": [
              "<Figure size 432x288 with 1 Axes>"
            ]
          },
          "metadata": {
            "tags": [],
            "needs_background": "light"
          }
        }
      ]
    },
    {
      "cell_type": "code",
      "metadata": {
        "id": "BUu3z_FriNXW",
        "colab_type": "code",
        "colab": {
          "base_uri": "https://localhost:8080/",
          "height": 313
        },
        "outputId": "e895c30f-42ae-4fa4-c25c-7e212eb4f871"
      },
      "source": [
        "indexNames = train[train['Annual.Income'] > 800000 ].index\n",
        "train.drop(indexNames , inplace=True, axis=0)\n",
        "print(train.shape)\n",
        "sns.boxplot(x=train['Annual.Income'])"
      ],
      "execution_count": null,
      "outputs": [
        {
          "output_type": "stream",
          "text": [
            "(58262, 17)\n"
          ],
          "name": "stdout"
        },
        {
          "output_type": "execute_result",
          "data": {
            "text/plain": [
              "<matplotlib.axes._subplots.AxesSubplot at 0x7f2f40128400>"
            ]
          },
          "metadata": {
            "tags": []
          },
          "execution_count": 176
        },
        {
          "output_type": "display_data",
          "data": {
            "image/png": "[encoded data removed]",
            "text/plain": [
              "<Figure size 432x288 with 1 Axes>"
            ]
          },
          "metadata": {
            "tags": [],
            "needs_background": "light"
          }
        }
      ]
    },
    {
      "cell_type": "code",
      "metadata": {
        "id": "zSyuGWdDflEl",
        "colab_type": "code",
        "colab": {}
      },
      "source": [
        "mean_annual_income=np.mean(train['Annual.Income'])\n",
        "train['Annual.Income'].fillna(mean_annual_income, inplace=True)"
      ],
      "execution_count": null,
      "outputs": []
    },
    {
      "cell_type": "code",
      "metadata": {
        "id": "IUQwxsDSMfMn",
        "colab_type": "code",
        "colab": {}
      },
      "source": [
        "mean_Bankruptcies=np.mean(train['Bankruptcies'])\n",
        "train['Bankruptcies'].fillna(mean_Bankruptcies, inplace=True)"
      ],
      "execution_count": null,
      "outputs": []
    },
    {
      "cell_type": "code",
      "metadata": {
        "id": "IkHa6tdVf-Ir",
        "colab_type": "code",
        "colab": {
          "base_uri": "https://localhost:8080/",
          "height": 406
        },
        "outputId": "64a5e45f-a140-4bc9-c4a3-5ad82337fac9"
      },
      "source": [
        "plt.figure()\n",
        "sns.heatmap(train.isnull(),yticklabels=False,cbar=False,cmap='viridis')"
      ],
      "execution_count": null,
      "outputs": [
        {
          "output_type": "execute_result",
          "data": {
            "text/plain": [
              "<matplotlib.axes._subplots.AxesSubplot at 0x7f2f4000e160>"
            ]
          },
          "metadata": {
            "tags": []
          },
          "execution_count": 182
        },
        {
          "output_type": "display_data",
          "data": {
            "image/png": "[encoded data removed]",
            "text/plain": [
              "<Figure size 432x288 with 1 Axes>"
            ]
          },
          "metadata": {
            "tags": [],
            "needs_background": "light"
          }
        }
      ]
    },
    {
      "cell_type": "code",
      "metadata": {
        "id": "eRbo_fkMM3mL",
        "colab_type": "code",
        "colab": {
          "base_uri": "https://localhost:8080/",
          "height": 296
        },
        "outputId": "91599fbf-b08e-4a24-88e1-9c626c414103"
      },
      "source": [
        "sns.boxplot(x=train['Credit.Score'])\n"
      ],
      "execution_count": null,
      "outputs": [
        {
          "output_type": "execute_result",
          "data": {
            "text/plain": [
              "<matplotlib.axes._subplots.AxesSubplot at 0x7f2f40094b38>"
            ]
          },
          "metadata": {
            "tags": []
          },
          "execution_count": 183
        },
        {
          "output_type": "display_data",
          "data": {
            "image/png": "[encoded data removed]",
            "text/plain": [
              "<Figure size 432x288 with 1 Axes>"
            ]
          },
          "metadata": {
            "tags": [],
            "needs_background": "light"
          }
        }
      ]
    },
    {
      "cell_type": "code",
      "metadata": {
        "id": "sypHeXg0NjId",
        "colab_type": "code",
        "colab": {
          "base_uri": "https://localhost:8080/",
          "height": 296
        },
        "outputId": "ccda10cc-1aef-45f2-cb21-47a8d03d1465"
      },
      "source": [
        "train['Credit.Score'] = train['Credit.Score'].apply(np.log)\n",
        "# plt.hist(x=train['Credit.Score'])\n",
        "\n",
        "sns.boxplot(x=train['Credit.Score'])"
      ],
      "execution_count": null,
      "outputs": [
        {
          "output_type": "execute_result",
          "data": {
            "text/plain": [
              "<matplotlib.axes._subplots.AxesSubplot at 0x7f2f3ff03240>"
            ]
          },
          "metadata": {
            "tags": []
          },
          "execution_count": 184
        },
        {
          "output_type": "display_data",
          "data": {
            "image/png": "[encoded data removed]",
            "text/plain": [
              "<Figure size 432x288 with 1 Axes>"
            ]
          },
          "metadata": {
            "tags": [],
            "needs_background": "light"
          }
        }
      ]
    },
    {
      "cell_type": "code",
      "metadata": {
        "id": "tyjhZ0TiVbRE",
        "colab_type": "code",
        "colab": {
          "base_uri": "https://localhost:8080/",
          "height": 313
        },
        "outputId": "8677c8db-c440-46ec-f541-14ae2447b5fc"
      },
      "source": [
        "print(train.shape)\n",
        "sns.boxplot(x=train['Annual.Income'])\n",
        "# len(train[train['Annual.Income'] == 0])\n",
        "# sns.boxplot(x=train['Annual.Income'])\n",
        "# print(train.shape)\n",
        "# # for i in range(len(train)):\n",
        "# #   if train['Annual.Income'].index[i] > 800000:\n",
        "# #     train.drop(index=i, inplace=True, axis=0)"
      ],
      "execution_count": null,
      "outputs": [
        {
          "output_type": "stream",
          "text": [
            "(58262, 17)\n"
          ],
          "name": "stdout"
        },
        {
          "output_type": "execute_result",
          "data": {
            "text/plain": [
              "<matplotlib.axes._subplots.AxesSubplot at 0x7f2f3fee4898>"
            ]
          },
          "metadata": {
            "tags": []
          },
          "execution_count": 185
        },
        {
          "output_type": "display_data",
          "data": {
            "image/png": "[encoded data removed]",
            "text/plain": [
              "<Figure size 432x288 with 1 Axes>"
            ]
          },
          "metadata": {
            "tags": [],
            "needs_background": "light"
          }
        }
      ]
    },
    {
      "cell_type": "code",
      "metadata": {
        "id": "btcOY_U0irvd",
        "colab_type": "code",
        "colab": {
          "base_uri": "https://localhost:8080/",
          "height": 309
        },
        "outputId": "f46819d9-5479-4b33-e208-ed2aca285912"
      },
      "source": [
        "# train['Gross.Monthly.Income'] = train['Gross.Monthly.Income'].apply(np.log)\n",
        "# plt.figure()\n",
        "# sns.boxplot(x=train['Gross.Monthly.Income'])\n",
        "\n",
        "train.head()"
      ],
      "execution_count": null,
      "outputs": [
        {
          "output_type": "execute_result",
          "data": {
            "text/html": [
              "<div>\n",
              "<style scoped>\n",
              "    .dataframe tbody tr th:only-of-type {\n",
              "        vertical-align: middle;\n",
              "    }\n",
              "\n",
              "    .dataframe tbody tr th {\n",
              "        vertical-align: top;\n",
              "    }\n",
              "\n",
              "    .dataframe thead th {\n",
              "        text-align: right;\n",
              "    }\n",
              "</style>\n",
              "<table border=\"1\" class=\"dataframe\">\n",
              "  <thead>\n",
              "    <tr style=\"text-align: right;\">\n",
              "      <th></th>\n",
              "      <th>Loan.ID</th>\n",
              "      <th>Current.Loan.Amount</th>\n",
              "      <th>Term</th>\n",
              "      <th>Credit.Score</th>\n",
              "      <th>Years.in.current.job</th>\n",
              "      <th>Home.Ownership</th>\n",
              "      <th>Annual.Income</th>\n",
              "      <th>Purpose</th>\n",
              "      <th>Monthly.Debt</th>\n",
              "      <th>Years.of.Credit.History</th>\n",
              "      <th>Number.of.Open.Accounts</th>\n",
              "      <th>Number.of.Credit.Problems</th>\n",
              "      <th>Current.Credit.Balance</th>\n",
              "      <th>Maximum.Open.Credit</th>\n",
              "      <th>Bankruptcies</th>\n",
              "      <th>Tax.Liens</th>\n",
              "      <th>Loan.Status</th>\n",
              "    </tr>\n",
              "  </thead>\n",
              "  <tbody>\n",
              "    <tr>\n",
              "      <th>0</th>\n",
              "      <td>0</td>\n",
              "      <td>9.791382</td>\n",
              "      <td>Short Term</td>\n",
              "      <td>6.605298</td>\n",
              "      <td>6 years</td>\n",
              "      <td>Home Mortgage</td>\n",
              "      <td>95357.0</td>\n",
              "      <td>Debt Consolidation</td>\n",
              "      <td>1509.82</td>\n",
              "      <td>34.4</td>\n",
              "      <td>26</td>\n",
              "      <td>0</td>\n",
              "      <td>23986</td>\n",
              "      <td>40313</td>\n",
              "      <td>0.0</td>\n",
              "      <td>0.0</td>\n",
              "      <td>1</td>\n",
              "    </tr>\n",
              "    <tr>\n",
              "      <th>1</th>\n",
              "      <td>1</td>\n",
              "      <td>18.420681</td>\n",
              "      <td>Long Term</td>\n",
              "      <td>6.428105</td>\n",
              "      <td>6 years</td>\n",
              "      <td>Rent</td>\n",
              "      <td>54406.0</td>\n",
              "      <td>Debt Consolidation</td>\n",
              "      <td>1065.45</td>\n",
              "      <td>12.7</td>\n",
              "      <td>8</td>\n",
              "      <td>0</td>\n",
              "      <td>22938</td>\n",
              "      <td>31250</td>\n",
              "      <td>0.0</td>\n",
              "      <td>0.0</td>\n",
              "      <td>1</td>\n",
              "    </tr>\n",
              "    <tr>\n",
              "      <th>2</th>\n",
              "      <td>3</td>\n",
              "      <td>18.420681</td>\n",
              "      <td>Short Term</td>\n",
              "      <td>6.603944</td>\n",
              "      <td>less than  1 year</td>\n",
              "      <td>Rent</td>\n",
              "      <td>40480.0</td>\n",
              "      <td>Medical Bills</td>\n",
              "      <td>573.47</td>\n",
              "      <td>32.7</td>\n",
              "      <td>9</td>\n",
              "      <td>1</td>\n",
              "      <td>3963</td>\n",
              "      <td>5669</td>\n",
              "      <td>1.0</td>\n",
              "      <td>0.0</td>\n",
              "      <td>1</td>\n",
              "    </tr>\n",
              "    <tr>\n",
              "      <th>3</th>\n",
              "      <td>4</td>\n",
              "      <td>9.323669</td>\n",
              "      <td>Short Term</td>\n",
              "      <td>6.603944</td>\n",
              "      <td>4 years</td>\n",
              "      <td>Rent</td>\n",
              "      <td>53965.0</td>\n",
              "      <td>Debt Consolidation</td>\n",
              "      <td>1358.11</td>\n",
              "      <td>15.8</td>\n",
              "      <td>8</td>\n",
              "      <td>1</td>\n",
              "      <td>11782</td>\n",
              "      <td>25951</td>\n",
              "      <td>1.0</td>\n",
              "      <td>0.0</td>\n",
              "      <td>1</td>\n",
              "    </tr>\n",
              "    <tr>\n",
              "      <th>4</th>\n",
              "      <td>5</td>\n",
              "      <td>8.190909</td>\n",
              "      <td>Short Term</td>\n",
              "      <td>6.594413</td>\n",
              "      <td>10+ years</td>\n",
              "      <td>Home Mortgage</td>\n",
              "      <td>47709.0</td>\n",
              "      <td>Home Improvements</td>\n",
              "      <td>339.93</td>\n",
              "      <td>16.1</td>\n",
              "      <td>6</td>\n",
              "      <td>0</td>\n",
              "      <td>22909</td>\n",
              "      <td>25568</td>\n",
              "      <td>0.0</td>\n",
              "      <td>0.0</td>\n",
              "      <td>1</td>\n",
              "    </tr>\n",
              "  </tbody>\n",
              "</table>\n",
              "</div>"
            ],
            "text/plain": [
              "   Loan.ID  Current.Loan.Amount  ... Tax.Liens  Loan.Status\n",
              "0        0             9.791382  ...       0.0            1\n",
              "1        1            18.420681  ...       0.0            1\n",
              "2        3            18.420681  ...       0.0            1\n",
              "3        4             9.323669  ...       0.0            1\n",
              "4        5             8.190909  ...       0.0            1\n",
              "\n",
              "[5 rows x 17 columns]"
            ]
          },
          "metadata": {
            "tags": []
          },
          "execution_count": 186
        }
      ]
    },
    {
      "cell_type": "code",
      "metadata": {
        "id": "gaXe76LaQELt",
        "colab_type": "code",
        "colab": {
          "base_uri": "https://localhost:8080/",
          "height": 296
        },
        "outputId": "ca75686a-3643-44ca-c2a1-884270351e63"
      },
      "source": [
        "sns.boxplot(x=train['Years.of.Credit.History'])\n",
        "# len(train[train['Years.of.Credit.History']==0])"
      ],
      "execution_count": null,
      "outputs": [
        {
          "output_type": "execute_result",
          "data": {
            "text/plain": [
              "<matplotlib.axes._subplots.AxesSubplot at 0x7f2f3fe4f128>"
            ]
          },
          "metadata": {
            "tags": []
          },
          "execution_count": 187
        },
        {
          "output_type": "display_data",
          "data": {
            "image/png": "[encoded data removed]",
            "text/plain": [
              "<Figure size 432x288 with 1 Axes>"
            ]
          },
          "metadata": {
            "tags": [],
            "needs_background": "light"
          }
        }
      ]
    },
    {
      "cell_type": "code",
      "metadata": {
        "id": "i7HLpg3RWFln",
        "colab_type": "code",
        "colab": {
          "base_uri": "https://localhost:8080/",
          "height": 296
        },
        "outputId": "312466bd-2dcc-4964-bde1-c019a4e2655d"
      },
      "source": [
        "train['Years.of.Credit.History'] = train['Years.of.Credit.History'].apply(np.log)\n",
        "sns.boxplot(x=train['Years.of.Credit.History'])"
      ],
      "execution_count": null,
      "outputs": [
        {
          "output_type": "execute_result",
          "data": {
            "text/plain": [
              "<matplotlib.axes._subplots.AxesSubplot at 0x7f2f3fe02438>"
            ]
          },
          "metadata": {
            "tags": []
          },
          "execution_count": 188
        },
        {
          "output_type": "display_data",
          "data": {
            "image/png": "[encoded data removed]",
            "text/plain": [
              "<Figure size 432x288 with 1 Axes>"
            ]
          },
          "metadata": {
            "tags": [],
            "needs_background": "light"
          }
        }
      ]
    },
    {
      "cell_type": "code",
      "metadata": {
        "id": "4J1Dq_40Wji6",
        "colab_type": "code",
        "colab": {
          "base_uri": "https://localhost:8080/",
          "height": 309
        },
        "outputId": "203d20c2-20f0-4279-a5d7-ef9515be11d2"
      },
      "source": [
        "ac = train['Maximum.Open.Credit'].values-train['Current.Credit.Balance'].values\n",
        "train.insert(15, column='Available.Credits', value=ac)\n",
        "train.drop(columns=['Current.Credit.Balance', 'Maximum.Open.Credit'], axis=1, inplace=True)\n",
        "\n",
        "train.head()"
      ],
      "execution_count": null,
      "outputs": [
        {
          "output_type": "execute_result",
          "data": {
            "text/html": [
              "<div>\n",
              "<style scoped>\n",
              "    .dataframe tbody tr th:only-of-type {\n",
              "        vertical-align: middle;\n",
              "    }\n",
              "\n",
              "    .dataframe tbody tr th {\n",
              "        vertical-align: top;\n",
              "    }\n",
              "\n",
              "    .dataframe thead th {\n",
              "        text-align: right;\n",
              "    }\n",
              "</style>\n",
              "<table border=\"1\" class=\"dataframe\">\n",
              "  <thead>\n",
              "    <tr style=\"text-align: right;\">\n",
              "      <th></th>\n",
              "      <th>Loan.ID</th>\n",
              "      <th>Current.Loan.Amount</th>\n",
              "      <th>Term</th>\n",
              "      <th>Credit.Score</th>\n",
              "      <th>Years.in.current.job</th>\n",
              "      <th>Home.Ownership</th>\n",
              "      <th>Annual.Income</th>\n",
              "      <th>Purpose</th>\n",
              "      <th>Monthly.Debt</th>\n",
              "      <th>Years.of.Credit.History</th>\n",
              "      <th>Number.of.Open.Accounts</th>\n",
              "      <th>Number.of.Credit.Problems</th>\n",
              "      <th>Bankruptcies</th>\n",
              "      <th>Available.Credits</th>\n",
              "      <th>Tax.Liens</th>\n",
              "      <th>Loan.Status</th>\n",
              "    </tr>\n",
              "  </thead>\n",
              "  <tbody>\n",
              "    <tr>\n",
              "      <th>0</th>\n",
              "      <td>0</td>\n",
              "      <td>9.791382</td>\n",
              "      <td>Short Term</td>\n",
              "      <td>6.605298</td>\n",
              "      <td>6 years</td>\n",
              "      <td>Home Mortgage</td>\n",
              "      <td>95357.0</td>\n",
              "      <td>Debt Consolidation</td>\n",
              "      <td>1509.82</td>\n",
              "      <td>3.538057</td>\n",
              "      <td>26</td>\n",
              "      <td>0</td>\n",
              "      <td>0.0</td>\n",
              "      <td>16327</td>\n",
              "      <td>0.0</td>\n",
              "      <td>1</td>\n",
              "    </tr>\n",
              "    <tr>\n",
              "      <th>1</th>\n",
              "      <td>1</td>\n",
              "      <td>18.420681</td>\n",
              "      <td>Long Term</td>\n",
              "      <td>6.428105</td>\n",
              "      <td>6 years</td>\n",
              "      <td>Rent</td>\n",
              "      <td>54406.0</td>\n",
              "      <td>Debt Consolidation</td>\n",
              "      <td>1065.45</td>\n",
              "      <td>2.541602</td>\n",
              "      <td>8</td>\n",
              "      <td>0</td>\n",
              "      <td>0.0</td>\n",
              "      <td>8312</td>\n",
              "      <td>0.0</td>\n",
              "      <td>1</td>\n",
              "    </tr>\n",
              "    <tr>\n",
              "      <th>2</th>\n",
              "      <td>3</td>\n",
              "      <td>18.420681</td>\n",
              "      <td>Short Term</td>\n",
              "      <td>6.603944</td>\n",
              "      <td>less than  1 year</td>\n",
              "      <td>Rent</td>\n",
              "      <td>40480.0</td>\n",
              "      <td>Medical Bills</td>\n",
              "      <td>573.47</td>\n",
              "      <td>3.487375</td>\n",
              "      <td>9</td>\n",
              "      <td>1</td>\n",
              "      <td>1.0</td>\n",
              "      <td>1706</td>\n",
              "      <td>0.0</td>\n",
              "      <td>1</td>\n",
              "    </tr>\n",
              "    <tr>\n",
              "      <th>3</th>\n",
              "      <td>4</td>\n",
              "      <td>9.323669</td>\n",
              "      <td>Short Term</td>\n",
              "      <td>6.603944</td>\n",
              "      <td>4 years</td>\n",
              "      <td>Rent</td>\n",
              "      <td>53965.0</td>\n",
              "      <td>Debt Consolidation</td>\n",
              "      <td>1358.11</td>\n",
              "      <td>2.760010</td>\n",
              "      <td>8</td>\n",
              "      <td>1</td>\n",
              "      <td>1.0</td>\n",
              "      <td>14169</td>\n",
              "      <td>0.0</td>\n",
              "      <td>1</td>\n",
              "    </tr>\n",
              "    <tr>\n",
              "      <th>4</th>\n",
              "      <td>5</td>\n",
              "      <td>8.190909</td>\n",
              "      <td>Short Term</td>\n",
              "      <td>6.594413</td>\n",
              "      <td>10+ years</td>\n",
              "      <td>Home Mortgage</td>\n",
              "      <td>47709.0</td>\n",
              "      <td>Home Improvements</td>\n",
              "      <td>339.93</td>\n",
              "      <td>2.778819</td>\n",
              "      <td>6</td>\n",
              "      <td>0</td>\n",
              "      <td>0.0</td>\n",
              "      <td>2659</td>\n",
              "      <td>0.0</td>\n",
              "      <td>1</td>\n",
              "    </tr>\n",
              "  </tbody>\n",
              "</table>\n",
              "</div>"
            ],
            "text/plain": [
              "   Loan.ID  Current.Loan.Amount  ... Tax.Liens  Loan.Status\n",
              "0        0             9.791382  ...       0.0            1\n",
              "1        1            18.420681  ...       0.0            1\n",
              "2        3            18.420681  ...       0.0            1\n",
              "3        4             9.323669  ...       0.0            1\n",
              "4        5             8.190909  ...       0.0            1\n",
              "\n",
              "[5 rows x 16 columns]"
            ]
          },
          "metadata": {
            "tags": []
          },
          "execution_count": 189
        }
      ]
    },
    {
      "cell_type": "code",
      "metadata": {
        "id": "KuSz_shQgB4H",
        "colab_type": "code",
        "colab": {}
      },
      "source": [
        "from sklearn.preprocessing import LabelEncoder\n",
        "X=train\n",
        "categorical_feature_mask = X.dtypes==object\n",
        "\n",
        "categorical_cols = X.columns[categorical_feature_mask].tolist()\n",
        "\n",
        "le = LabelEncoder()\n",
        "X[categorical_cols] = X[categorical_cols].apply(lambda col: le.fit_transform(col))+1\n",
        "train = X"
      ],
      "execution_count": null,
      "outputs": []
    },
    {
      "cell_type": "code",
      "metadata": {
        "id": "VPoG_ngGtYDz",
        "colab_type": "code",
        "colab": {
          "base_uri": "https://localhost:8080/",
          "height": 224
        },
        "outputId": "4f546090-19a7-4c76-9b84-8d67523bdc93"
      },
      "source": [
        "train.head()"
      ],
      "execution_count": null,
      "outputs": [
        {
          "output_type": "execute_result",
          "data": {
            "text/html": [
              "<div>\n",
              "<style scoped>\n",
              "    .dataframe tbody tr th:only-of-type {\n",
              "        vertical-align: middle;\n",
              "    }\n",
              "\n",
              "    .dataframe tbody tr th {\n",
              "        vertical-align: top;\n",
              "    }\n",
              "\n",
              "    .dataframe thead th {\n",
              "        text-align: right;\n",
              "    }\n",
              "</style>\n",
              "<table border=\"1\" class=\"dataframe\">\n",
              "  <thead>\n",
              "    <tr style=\"text-align: right;\">\n",
              "      <th></th>\n",
              "      <th>Loan.ID</th>\n",
              "      <th>Current.Loan.Amount</th>\n",
              "      <th>Term</th>\n",
              "      <th>Credit.Score</th>\n",
              "      <th>Years.in.current.job</th>\n",
              "      <th>Home.Ownership</th>\n",
              "      <th>Annual.Income</th>\n",
              "      <th>Purpose</th>\n",
              "      <th>Monthly.Debt</th>\n",
              "      <th>Years.of.Credit.History</th>\n",
              "      <th>Number.of.Open.Accounts</th>\n",
              "      <th>Number.of.Credit.Problems</th>\n",
              "      <th>Bankruptcies</th>\n",
              "      <th>Available.Credits</th>\n",
              "      <th>Tax.Liens</th>\n",
              "      <th>Loan.Status</th>\n",
              "    </tr>\n",
              "  </thead>\n",
              "  <tbody>\n",
              "    <tr>\n",
              "      <th>0</th>\n",
              "      <td>0</td>\n",
              "      <td>9.791382</td>\n",
              "      <td>2</td>\n",
              "      <td>6.605298</td>\n",
              "      <td>7</td>\n",
              "      <td>2</td>\n",
              "      <td>95357.0</td>\n",
              "      <td>4</td>\n",
              "      <td>1509.82</td>\n",
              "      <td>3.538057</td>\n",
              "      <td>26</td>\n",
              "      <td>0</td>\n",
              "      <td>0.0</td>\n",
              "      <td>16327</td>\n",
              "      <td>0.0</td>\n",
              "      <td>1</td>\n",
              "    </tr>\n",
              "    <tr>\n",
              "      <th>1</th>\n",
              "      <td>1</td>\n",
              "      <td>18.420681</td>\n",
              "      <td>1</td>\n",
              "      <td>6.428105</td>\n",
              "      <td>7</td>\n",
              "      <td>4</td>\n",
              "      <td>54406.0</td>\n",
              "      <td>4</td>\n",
              "      <td>1065.45</td>\n",
              "      <td>2.541602</td>\n",
              "      <td>8</td>\n",
              "      <td>0</td>\n",
              "      <td>0.0</td>\n",
              "      <td>8312</td>\n",
              "      <td>0.0</td>\n",
              "      <td>1</td>\n",
              "    </tr>\n",
              "    <tr>\n",
              "      <th>2</th>\n",
              "      <td>3</td>\n",
              "      <td>18.420681</td>\n",
              "      <td>2</td>\n",
              "      <td>6.603944</td>\n",
              "      <td>11</td>\n",
              "      <td>4</td>\n",
              "      <td>40480.0</td>\n",
              "      <td>7</td>\n",
              "      <td>573.47</td>\n",
              "      <td>3.487375</td>\n",
              "      <td>9</td>\n",
              "      <td>1</td>\n",
              "      <td>1.0</td>\n",
              "      <td>1706</td>\n",
              "      <td>0.0</td>\n",
              "      <td>1</td>\n",
              "    </tr>\n",
              "    <tr>\n",
              "      <th>3</th>\n",
              "      <td>4</td>\n",
              "      <td>9.323669</td>\n",
              "      <td>2</td>\n",
              "      <td>6.603944</td>\n",
              "      <td>5</td>\n",
              "      <td>4</td>\n",
              "      <td>53965.0</td>\n",
              "      <td>4</td>\n",
              "      <td>1358.11</td>\n",
              "      <td>2.760010</td>\n",
              "      <td>8</td>\n",
              "      <td>1</td>\n",
              "      <td>1.0</td>\n",
              "      <td>14169</td>\n",
              "      <td>0.0</td>\n",
              "      <td>1</td>\n",
              "    </tr>\n",
              "    <tr>\n",
              "      <th>4</th>\n",
              "      <td>5</td>\n",
              "      <td>8.190909</td>\n",
              "      <td>2</td>\n",
              "      <td>6.594413</td>\n",
              "      <td>2</td>\n",
              "      <td>2</td>\n",
              "      <td>47709.0</td>\n",
              "      <td>6</td>\n",
              "      <td>339.93</td>\n",
              "      <td>2.778819</td>\n",
              "      <td>6</td>\n",
              "      <td>0</td>\n",
              "      <td>0.0</td>\n",
              "      <td>2659</td>\n",
              "      <td>0.0</td>\n",
              "      <td>1</td>\n",
              "    </tr>\n",
              "  </tbody>\n",
              "</table>\n",
              "</div>"
            ],
            "text/plain": [
              "   Loan.ID  Current.Loan.Amount  ...  Tax.Liens  Loan.Status\n",
              "0        0             9.791382  ...        0.0            1\n",
              "1        1            18.420681  ...        0.0            1\n",
              "2        3            18.420681  ...        0.0            1\n",
              "3        4             9.323669  ...        0.0            1\n",
              "4        5             8.190909  ...        0.0            1\n",
              "\n",
              "[5 rows x 16 columns]"
            ]
          },
          "metadata": {
            "tags": []
          },
          "execution_count": 191
        }
      ]
    },
    {
      "cell_type": "code",
      "metadata": {
        "id": "xdQ1NVPHJCtv",
        "colab_type": "code",
        "colab": {}
      },
      "source": [
        "mean_annual_income=np.mean(train['Tax.Liens'])\n",
        "train['Tax.Liens'].fillna(mean_annual_income, inplace=True)"
      ],
      "execution_count": null,
      "outputs": []
    },
    {
      "cell_type": "code",
      "metadata": {
        "id": "NLtQZF4wyv9i",
        "colab_type": "code",
        "colab": {
          "base_uri": "https://localhost:8080/",
          "height": 224
        },
        "outputId": "dbfdd073-e57e-44f5-fcd5-a23d55aff0d1"
      },
      "source": [
        "EMI = train['Current.Loan.Amount']/train['Term']\n",
        "train.insert(0, column='EMI', value=EMI)\n",
        "train.drop(columns=['Current.Loan.Amount', 'Term'], axis=1, inplace=True)\n",
        "\n",
        "train.head()"
      ],
      "execution_count": null,
      "outputs": [
        {
          "output_type": "execute_result",
          "data": {
            "text/html": [
              "<div>\n",
              "<style scoped>\n",
              "    .dataframe tbody tr th:only-of-type {\n",
              "        vertical-align: middle;\n",
              "    }\n",
              "\n",
              "    .dataframe tbody tr th {\n",
              "        vertical-align: top;\n",
              "    }\n",
              "\n",
              "    .dataframe thead th {\n",
              "        text-align: right;\n",
              "    }\n",
              "</style>\n",
              "<table border=\"1\" class=\"dataframe\">\n",
              "  <thead>\n",
              "    <tr style=\"text-align: right;\">\n",
              "      <th></th>\n",
              "      <th>EMI</th>\n",
              "      <th>Loan.ID</th>\n",
              "      <th>Credit.Score</th>\n",
              "      <th>Years.in.current.job</th>\n",
              "      <th>Home.Ownership</th>\n",
              "      <th>Annual.Income</th>\n",
              "      <th>Purpose</th>\n",
              "      <th>Monthly.Debt</th>\n",
              "      <th>Years.of.Credit.History</th>\n",
              "      <th>Number.of.Open.Accounts</th>\n",
              "      <th>Number.of.Credit.Problems</th>\n",
              "      <th>Bankruptcies</th>\n",
              "      <th>Available.Credits</th>\n",
              "      <th>Tax.Liens</th>\n",
              "      <th>Loan.Status</th>\n",
              "    </tr>\n",
              "  </thead>\n",
              "  <tbody>\n",
              "    <tr>\n",
              "      <th>0</th>\n",
              "      <td>4.895691</td>\n",
              "      <td>0</td>\n",
              "      <td>6.605298</td>\n",
              "      <td>7</td>\n",
              "      <td>2</td>\n",
              "      <td>95357.0</td>\n",
              "      <td>4</td>\n",
              "      <td>1509.82</td>\n",
              "      <td>3.538057</td>\n",
              "      <td>26</td>\n",
              "      <td>0</td>\n",
              "      <td>0.0</td>\n",
              "      <td>16327</td>\n",
              "      <td>0.0</td>\n",
              "      <td>1</td>\n",
              "    </tr>\n",
              "    <tr>\n",
              "      <th>1</th>\n",
              "      <td>18.420681</td>\n",
              "      <td>1</td>\n",
              "      <td>6.428105</td>\n",
              "      <td>7</td>\n",
              "      <td>4</td>\n",
              "      <td>54406.0</td>\n",
              "      <td>4</td>\n",
              "      <td>1065.45</td>\n",
              "      <td>2.541602</td>\n",
              "      <td>8</td>\n",
              "      <td>0</td>\n",
              "      <td>0.0</td>\n",
              "      <td>8312</td>\n",
              "      <td>0.0</td>\n",
              "      <td>1</td>\n",
              "    </tr>\n",
              "    <tr>\n",
              "      <th>2</th>\n",
              "      <td>9.210340</td>\n",
              "      <td>3</td>\n",
              "      <td>6.603944</td>\n",
              "      <td>11</td>\n",
              "      <td>4</td>\n",
              "      <td>40480.0</td>\n",
              "      <td>7</td>\n",
              "      <td>573.47</td>\n",
              "      <td>3.487375</td>\n",
              "      <td>9</td>\n",
              "      <td>1</td>\n",
              "      <td>1.0</td>\n",
              "      <td>1706</td>\n",
              "      <td>0.0</td>\n",
              "      <td>1</td>\n",
              "    </tr>\n",
              "    <tr>\n",
              "      <th>3</th>\n",
              "      <td>4.661835</td>\n",
              "      <td>4</td>\n",
              "      <td>6.603944</td>\n",
              "      <td>5</td>\n",
              "      <td>4</td>\n",
              "      <td>53965.0</td>\n",
              "      <td>4</td>\n",
              "      <td>1358.11</td>\n",
              "      <td>2.760010</td>\n",
              "      <td>8</td>\n",
              "      <td>1</td>\n",
              "      <td>1.0</td>\n",
              "      <td>14169</td>\n",
              "      <td>0.0</td>\n",
              "      <td>1</td>\n",
              "    </tr>\n",
              "    <tr>\n",
              "      <th>4</th>\n",
              "      <td>4.095454</td>\n",
              "      <td>5</td>\n",
              "      <td>6.594413</td>\n",
              "      <td>2</td>\n",
              "      <td>2</td>\n",
              "      <td>47709.0</td>\n",
              "      <td>6</td>\n",
              "      <td>339.93</td>\n",
              "      <td>2.778819</td>\n",
              "      <td>6</td>\n",
              "      <td>0</td>\n",
              "      <td>0.0</td>\n",
              "      <td>2659</td>\n",
              "      <td>0.0</td>\n",
              "      <td>1</td>\n",
              "    </tr>\n",
              "  </tbody>\n",
              "</table>\n",
              "</div>"
            ],
            "text/plain": [
              "         EMI  Loan.ID  Credit.Score  ...  Available.Credits  Tax.Liens  Loan.Status\n",
              "0   4.895691        0      6.605298  ...              16327        0.0            1\n",
              "1  18.420681        1      6.428105  ...               8312        0.0            1\n",
              "2   9.210340        3      6.603944  ...               1706        0.0            1\n",
              "3   4.661835        4      6.603944  ...              14169        0.0            1\n",
              "4   4.095454        5      6.594413  ...               2659        0.0            1\n",
              "\n",
              "[5 rows x 15 columns]"
            ]
          },
          "metadata": {
            "tags": []
          },
          "execution_count": 193
        }
      ]
    },
    {
      "cell_type": "code",
      "metadata": {
        "id": "SoxAxUsWkT6d",
        "colab_type": "code",
        "colab": {
          "base_uri": "https://localhost:8080/",
          "height": 224
        },
        "outputId": "7f9fd53e-15b8-4776-a340-d2cdb564b08d"
      },
      "source": [
        "y_train = train['Loan.Status']\n",
        "\n",
        "ID_train = train['Loan.ID']\n",
        "\n",
        "train.drop(['Loan.Status', 'Loan.ID'], axis=1, inplace=True)\n",
        "X_train = train\n",
        "\n",
        "X_train.head()"
      ],
      "execution_count": null,
      "outputs": [
        {
          "output_type": "execute_result",
          "data": {
            "text/html": [
              "<div>\n",
              "<style scoped>\n",
              "    .dataframe tbody tr th:only-of-type {\n",
              "        vertical-align: middle;\n",
              "    }\n",
              "\n",
              "    .dataframe tbody tr th {\n",
              "        vertical-align: top;\n",
              "    }\n",
              "\n",
              "    .dataframe thead th {\n",
              "        text-align: right;\n",
              "    }\n",
              "</style>\n",
              "<table border=\"1\" class=\"dataframe\">\n",
              "  <thead>\n",
              "    <tr style=\"text-align: right;\">\n",
              "      <th></th>\n",
              "      <th>EMI</th>\n",
              "      <th>Credit.Score</th>\n",
              "      <th>Years.in.current.job</th>\n",
              "      <th>Home.Ownership</th>\n",
              "      <th>Annual.Income</th>\n",
              "      <th>Purpose</th>\n",
              "      <th>Monthly.Debt</th>\n",
              "      <th>Years.of.Credit.History</th>\n",
              "      <th>Number.of.Open.Accounts</th>\n",
              "      <th>Number.of.Credit.Problems</th>\n",
              "      <th>Bankruptcies</th>\n",
              "      <th>Available.Credits</th>\n",
              "      <th>Tax.Liens</th>\n",
              "    </tr>\n",
              "  </thead>\n",
              "  <tbody>\n",
              "    <tr>\n",
              "      <th>0</th>\n",
              "      <td>4.895691</td>\n",
              "      <td>6.605298</td>\n",
              "      <td>7</td>\n",
              "      <td>2</td>\n",
              "      <td>95357.0</td>\n",
              "      <td>4</td>\n",
              "      <td>1509.82</td>\n",
              "      <td>3.538057</td>\n",
              "      <td>26</td>\n",
              "      <td>0</td>\n",
              "      <td>0.0</td>\n",
              "      <td>16327</td>\n",
              "      <td>0.0</td>\n",
              "    </tr>\n",
              "    <tr>\n",
              "      <th>1</th>\n",
              "      <td>18.420681</td>\n",
              "      <td>6.428105</td>\n",
              "      <td>7</td>\n",
              "      <td>4</td>\n",
              "      <td>54406.0</td>\n",
              "      <td>4</td>\n",
              "      <td>1065.45</td>\n",
              "      <td>2.541602</td>\n",
              "      <td>8</td>\n",
              "      <td>0</td>\n",
              "      <td>0.0</td>\n",
              "      <td>8312</td>\n",
              "      <td>0.0</td>\n",
              "    </tr>\n",
              "    <tr>\n",
              "      <th>2</th>\n",
              "      <td>9.210340</td>\n",
              "      <td>6.603944</td>\n",
              "      <td>11</td>\n",
              "      <td>4</td>\n",
              "      <td>40480.0</td>\n",
              "      <td>7</td>\n",
              "      <td>573.47</td>\n",
              "      <td>3.487375</td>\n",
              "      <td>9</td>\n",
              "      <td>1</td>\n",
              "      <td>1.0</td>\n",
              "      <td>1706</td>\n",
              "      <td>0.0</td>\n",
              "    </tr>\n",
              "    <tr>\n",
              "      <th>3</th>\n",
              "      <td>4.661835</td>\n",
              "      <td>6.603944</td>\n",
              "      <td>5</td>\n",
              "      <td>4</td>\n",
              "      <td>53965.0</td>\n",
              "      <td>4</td>\n",
              "      <td>1358.11</td>\n",
              "      <td>2.760010</td>\n",
              "      <td>8</td>\n",
              "      <td>1</td>\n",
              "      <td>1.0</td>\n",
              "      <td>14169</td>\n",
              "      <td>0.0</td>\n",
              "    </tr>\n",
              "    <tr>\n",
              "      <th>4</th>\n",
              "      <td>4.095454</td>\n",
              "      <td>6.594413</td>\n",
              "      <td>2</td>\n",
              "      <td>2</td>\n",
              "      <td>47709.0</td>\n",
              "      <td>6</td>\n",
              "      <td>339.93</td>\n",
              "      <td>2.778819</td>\n",
              "      <td>6</td>\n",
              "      <td>0</td>\n",
              "      <td>0.0</td>\n",
              "      <td>2659</td>\n",
              "      <td>0.0</td>\n",
              "    </tr>\n",
              "  </tbody>\n",
              "</table>\n",
              "</div>"
            ],
            "text/plain": [
              "         EMI  Credit.Score  ...  Available.Credits  Tax.Liens\n",
              "0   4.895691      6.605298  ...              16327        0.0\n",
              "1  18.420681      6.428105  ...               8312        0.0\n",
              "2   9.210340      6.603944  ...               1706        0.0\n",
              "3   4.661835      6.603944  ...              14169        0.0\n",
              "4   4.095454      6.594413  ...               2659        0.0\n",
              "\n",
              "[5 rows x 13 columns]"
            ]
          },
          "metadata": {
            "tags": []
          },
          "execution_count": 194
        }
      ]
    },
    {
      "cell_type": "code",
      "metadata": {
        "id": "PATiaWnwNDf_",
        "colab_type": "code",
        "colab": {
          "base_uri": "https://localhost:8080/",
          "height": 224
        },
        "outputId": "eebcc5c1-1635-4b06-e05a-0d56872e0d96"
      },
      "source": [
        "from sklearn.preprocessing import StandardScaler\n",
        "\n",
        "scaler = StandardScaler()\n",
        "scaler.fit(X_train)\n",
        "\n",
        "X_train = pd.DataFrame(scaler.transform(X_train), columns=X_train.columns)\n",
        "\n",
        "X_train.head()"
      ],
      "execution_count": null,
      "outputs": [
        {
          "output_type": "execute_result",
          "data": {
            "text/html": [
              "<div>\n",
              "<style scoped>\n",
              "    .dataframe tbody tr th:only-of-type {\n",
              "        vertical-align: middle;\n",
              "    }\n",
              "\n",
              "    .dataframe tbody tr th {\n",
              "        vertical-align: top;\n",
              "    }\n",
              "\n",
              "    .dataframe thead th {\n",
              "        text-align: right;\n",
              "    }\n",
              "</style>\n",
              "<table border=\"1\" class=\"dataframe\">\n",
              "  <thead>\n",
              "    <tr style=\"text-align: right;\">\n",
              "      <th></th>\n",
              "      <th>EMI</th>\n",
              "      <th>Credit.Score</th>\n",
              "      <th>Years.in.current.job</th>\n",
              "      <th>Home.Ownership</th>\n",
              "      <th>Annual.Income</th>\n",
              "      <th>Purpose</th>\n",
              "      <th>Monthly.Debt</th>\n",
              "      <th>Years.of.Credit.History</th>\n",
              "      <th>Number.of.Open.Accounts</th>\n",
              "      <th>Number.of.Credit.Problems</th>\n",
              "      <th>Bankruptcies</th>\n",
              "      <th>Available.Credits</th>\n",
              "      <th>Tax.Liens</th>\n",
              "    </tr>\n",
              "  </thead>\n",
              "  <tbody>\n",
              "    <tr>\n",
              "      <th>0</th>\n",
              "      <td>-0.591259</td>\n",
              "      <td>-0.332252</td>\n",
              "      <td>0.703015</td>\n",
              "      <td>-0.980537</td>\n",
              "      <td>0.547469</td>\n",
              "      <td>-0.349991</td>\n",
              "      <td>0.838432</td>\n",
              "      <td>1.901754</td>\n",
              "      <td>2.964097</td>\n",
              "      <td>-0.339570</td>\n",
              "      <td>-0.327032</td>\n",
              "      <td>-0.005907</td>\n",
              "      <td>-0.10977</td>\n",
              "    </tr>\n",
              "    <tr>\n",
              "      <th>1</th>\n",
              "      <td>3.822498</td>\n",
              "      <td>-0.685220</td>\n",
              "      <td>0.703015</td>\n",
              "      <td>1.111222</td>\n",
              "      <td>-0.461103</td>\n",
              "      <td>-0.349991</td>\n",
              "      <td>0.136531</td>\n",
              "      <td>-0.748845</td>\n",
              "      <td>-0.632421</td>\n",
              "      <td>-0.339570</td>\n",
              "      <td>-0.327032</td>\n",
              "      <td>-0.043304</td>\n",
              "      <td>-0.10977</td>\n",
              "    </tr>\n",
              "    <tr>\n",
              "      <th>2</th>\n",
              "      <td>0.816788</td>\n",
              "      <td>-0.334949</td>\n",
              "      <td>1.961243</td>\n",
              "      <td>1.111222</td>\n",
              "      <td>-0.804083</td>\n",
              "      <td>0.981199</td>\n",
              "      <td>-0.640573</td>\n",
              "      <td>1.766940</td>\n",
              "      <td>-0.432615</td>\n",
              "      <td>1.784548</td>\n",
              "      <td>2.619651</td>\n",
              "      <td>-0.074126</td>\n",
              "      <td>-0.10977</td>\n",
              "    </tr>\n",
              "    <tr>\n",
              "      <th>3</th>\n",
              "      <td>-0.667576</td>\n",
              "      <td>-0.334949</td>\n",
              "      <td>0.073902</td>\n",
              "      <td>1.111222</td>\n",
              "      <td>-0.471965</td>\n",
              "      <td>-0.349991</td>\n",
              "      <td>0.598800</td>\n",
              "      <td>-0.167873</td>\n",
              "      <td>-0.632421</td>\n",
              "      <td>1.784548</td>\n",
              "      <td>2.619651</td>\n",
              "      <td>-0.015976</td>\n",
              "      <td>-0.10977</td>\n",
              "    </tr>\n",
              "    <tr>\n",
              "      <th>4</th>\n",
              "      <td>-0.852409</td>\n",
              "      <td>-0.353934</td>\n",
              "      <td>-0.869769</td>\n",
              "      <td>-0.980537</td>\n",
              "      <td>-0.626042</td>\n",
              "      <td>0.537469</td>\n",
              "      <td>-1.009459</td>\n",
              "      <td>-0.117840</td>\n",
              "      <td>-1.032034</td>\n",
              "      <td>-0.339570</td>\n",
              "      <td>-0.327032</td>\n",
              "      <td>-0.069679</td>\n",
              "      <td>-0.10977</td>\n",
              "    </tr>\n",
              "  </tbody>\n",
              "</table>\n",
              "</div>"
            ],
            "text/plain": [
              "        EMI  Credit.Score  ...  Available.Credits  Tax.Liens\n",
              "0 -0.591259     -0.332252  ...          -0.005907   -0.10977\n",
              "1  3.822498     -0.685220  ...          -0.043304   -0.10977\n",
              "2  0.816788     -0.334949  ...          -0.074126   -0.10977\n",
              "3 -0.667576     -0.334949  ...          -0.015976   -0.10977\n",
              "4 -0.852409     -0.353934  ...          -0.069679   -0.10977\n",
              "\n",
              "[5 rows x 13 columns]"
            ]
          },
          "metadata": {
            "tags": []
          },
          "execution_count": 195
        }
      ]
    },
    {
      "cell_type": "code",
      "metadata": {
        "id": "IvZ_YlLEnPxm",
        "colab_type": "code",
        "colab": {}
      },
      "source": [
        "# from sklearn.preprocessing import RobustScaler\n",
        "\n",
        "# scaler = RobustScaler()\n",
        "# scaler.fit(X_train)\n",
        "# X_train = pd.DataFrame(scaler.transform(X_train), columns=X_train.columns)\n",
        "\n",
        "# X_train.head()"
      ],
      "execution_count": null,
      "outputs": []
    },
    {
      "cell_type": "code",
      "metadata": {
        "id": "32_dnar-Jtuc",
        "colab_type": "code",
        "colab": {
          "base_uri": "https://localhost:8080/",
          "height": 255
        },
        "outputId": "40a76d40-23a3-42ab-d910-1c7f19046ba4"
      },
      "source": [
        "np.isfinite(train).all()"
      ],
      "execution_count": null,
      "outputs": [
        {
          "output_type": "execute_result",
          "data": {
            "text/plain": [
              "EMI                          True\n",
              "Credit.Score                 True\n",
              "Years.in.current.job         True\n",
              "Home.Ownership               True\n",
              "Annual.Income                True\n",
              "Purpose                      True\n",
              "Monthly.Debt                 True\n",
              "Years.of.Credit.History      True\n",
              "Number.of.Open.Accounts      True\n",
              "Number.of.Credit.Problems    True\n",
              "Bankruptcies                 True\n",
              "Available.Credits            True\n",
              "Tax.Liens                    True\n",
              "dtype: bool"
            ]
          },
          "metadata": {
            "tags": []
          },
          "execution_count": 197
        }
      ]
    },
    {
      "cell_type": "code",
      "metadata": {
        "id": "n-RCbyQNx00q",
        "colab_type": "code",
        "colab": {}
      },
      "source": [
        "from sklearn.model_selection import train_test_split as tts\n",
        "\n",
        "X_train, X_validation, y_train, y_validation = tts(X_train, y_train, train_size=0.75, test_size=0.25)"
      ],
      "execution_count": null,
      "outputs": []
    },
    {
      "cell_type": "code",
      "metadata": {
        "id": "UJDn9rSxsf-Y",
        "colab_type": "code",
        "colab": {
          "base_uri": "https://localhost:8080/",
          "height": 224
        },
        "outputId": "f853e199-6bd7-42ee-95d5-4b5bf85b045f"
      },
      "source": [
        "X_train.head()"
      ],
      "execution_count": null,
      "outputs": [
        {
          "output_type": "execute_result",
          "data": {
            "text/html": [
              "<div>\n",
              "<style scoped>\n",
              "    .dataframe tbody tr th:only-of-type {\n",
              "        vertical-align: middle;\n",
              "    }\n",
              "\n",
              "    .dataframe tbody tr th {\n",
              "        vertical-align: top;\n",
              "    }\n",
              "\n",
              "    .dataframe thead th {\n",
              "        text-align: right;\n",
              "    }\n",
              "</style>\n",
              "<table border=\"1\" class=\"dataframe\">\n",
              "  <thead>\n",
              "    <tr style=\"text-align: right;\">\n",
              "      <th></th>\n",
              "      <th>EMI</th>\n",
              "      <th>Credit.Score</th>\n",
              "      <th>Years.in.current.job</th>\n",
              "      <th>Home.Ownership</th>\n",
              "      <th>Annual.Income</th>\n",
              "      <th>Purpose</th>\n",
              "      <th>Monthly.Debt</th>\n",
              "      <th>Years.of.Credit.History</th>\n",
              "      <th>Number.of.Open.Accounts</th>\n",
              "      <th>Number.of.Credit.Problems</th>\n",
              "      <th>Bankruptcies</th>\n",
              "      <th>Available.Credits</th>\n",
              "      <th>Tax.Liens</th>\n",
              "    </tr>\n",
              "  </thead>\n",
              "  <tbody>\n",
              "    <tr>\n",
              "      <th>22004</th>\n",
              "      <td>-0.570344</td>\n",
              "      <td>-0.324181</td>\n",
              "      <td>0.073902</td>\n",
              "      <td>-0.980537</td>\n",
              "      <td>0.701719</td>\n",
              "      <td>-0.349991</td>\n",
              "      <td>1.610370</td>\n",
              "      <td>0.601575</td>\n",
              "      <td>-0.632421</td>\n",
              "      <td>-0.33957</td>\n",
              "      <td>-0.327032</td>\n",
              "      <td>-0.048973</td>\n",
              "      <td>-0.10977</td>\n",
              "    </tr>\n",
              "    <tr>\n",
              "      <th>29122</th>\n",
              "      <td>0.816788</td>\n",
              "      <td>-0.406394</td>\n",
              "      <td>1.332129</td>\n",
              "      <td>-0.980537</td>\n",
              "      <td>1.027139</td>\n",
              "      <td>-0.349991</td>\n",
              "      <td>3.456761</td>\n",
              "      <td>-0.626052</td>\n",
              "      <td>0.766225</td>\n",
              "      <td>-0.33957</td>\n",
              "      <td>-0.327032</td>\n",
              "      <td>-0.036865</td>\n",
              "      <td>-0.10977</td>\n",
              "    </tr>\n",
              "    <tr>\n",
              "      <th>30904</th>\n",
              "      <td>-0.546215</td>\n",
              "      <td>-0.454533</td>\n",
              "      <td>-0.869769</td>\n",
              "      <td>-0.980537</td>\n",
              "      <td>2.067827</td>\n",
              "      <td>3.199849</td>\n",
              "      <td>2.961258</td>\n",
              "      <td>1.296561</td>\n",
              "      <td>2.164871</td>\n",
              "      <td>-0.33957</td>\n",
              "      <td>-0.327032</td>\n",
              "      <td>0.036477</td>\n",
              "      <td>-0.10977</td>\n",
              "    </tr>\n",
              "    <tr>\n",
              "      <th>42677</th>\n",
              "      <td>-0.872041</td>\n",
              "      <td>-0.389678</td>\n",
              "      <td>-0.869769</td>\n",
              "      <td>-0.980537</td>\n",
              "      <td>-0.274368</td>\n",
              "      <td>-0.349991</td>\n",
              "      <td>0.028364</td>\n",
              "      <td>0.178893</td>\n",
              "      <td>2.964097</td>\n",
              "      <td>-0.33957</td>\n",
              "      <td>-0.327032</td>\n",
              "      <td>-0.015029</td>\n",
              "      <td>-0.10977</td>\n",
              "    </tr>\n",
              "    <tr>\n",
              "      <th>24511</th>\n",
              "      <td>0.816788</td>\n",
              "      <td>-0.302819</td>\n",
              "      <td>-1.184326</td>\n",
              "      <td>1.111222</td>\n",
              "      <td>-0.476546</td>\n",
              "      <td>-0.349991</td>\n",
              "      <td>-1.156356</td>\n",
              "      <td>-0.967002</td>\n",
              "      <td>-0.432615</td>\n",
              "      <td>-0.33957</td>\n",
              "      <td>-0.327032</td>\n",
              "      <td>-0.012701</td>\n",
              "      <td>-0.10977</td>\n",
              "    </tr>\n",
              "  </tbody>\n",
              "</table>\n",
              "</div>"
            ],
            "text/plain": [
              "            EMI  Credit.Score  ...  Available.Credits  Tax.Liens\n",
              "22004 -0.570344     -0.324181  ...          -0.048973   -0.10977\n",
              "29122  0.816788     -0.406394  ...          -0.036865   -0.10977\n",
              "30904 -0.546215     -0.454533  ...           0.036477   -0.10977\n",
              "42677 -0.872041     -0.389678  ...          -0.015029   -0.10977\n",
              "24511  0.816788     -0.302819  ...          -0.012701   -0.10977\n",
              "\n",
              "[5 rows x 13 columns]"
            ]
          },
          "metadata": {
            "tags": []
          },
          "execution_count": 199
        }
      ]
    },
    {
      "cell_type": "code",
      "metadata": {
        "id": "PrAeus-ttR-B",
        "colab_type": "code",
        "colab": {}
      },
      "source": [
        "# from sklearn.ensemble import ExtraTreesClassifier\n",
        "# from sklearn.feature_selection import SelectFromModel\n",
        "# print(X_train.shape)\n",
        "# clf = ExtraTreesClassifier(n_estimators=50)\n",
        "# clf = clf.fit(X_train, y_train)\n",
        "# col = clf.feature_importances_ \n",
        "# model = SelectFromModel(clf, prefit=True)\n",
        "# feature_idx = model.get_support()\n",
        "# feature_name = X_train.columns[feature_idx]\n",
        "# X_train = pd.DataFrame(model.transform(X_train), columns=feature_name)\n",
        "# print(X_train.shape)   \n",
        "# X_train.head()"
      ],
      "execution_count": null,
      "outputs": []
    },
    {
      "cell_type": "code",
      "metadata": {
        "id": "S6AUAgtbu9Cv",
        "colab_type": "code",
        "colab": {}
      },
      "source": [
        "# X_validation = X_validation.loc[:, feature_name]\n",
        "# X_validation.head()"
      ],
      "execution_count": null,
      "outputs": []
    },
    {
      "cell_type": "code",
      "metadata": {
        "id": "kujZRFsMcey-",
        "colab_type": "code",
        "colab": {}
      },
      "source": [
        "# import imblearn\n",
        "# from imblearn.under_sampling import RandomUnderSampler\n",
        "# import xgboost as xgb\n",
        "# from sklearn.ensemble import RandomForestClassifier\n",
        "# from sklearn import svm\n",
        "# from sklearn.linear_model import LogisticRegression\n",
        "# from sklearn.ensemble import VotingClassifier\n",
        "\n",
        "\n",
        "# random_undersampler = RandomUnderSampler()\n",
        "# X_res, y_res = random_undersampler.fit_sample(X_train, y_train)\n",
        "\n",
        "# # Shuffle the data\n",
        "# perms = np.random.permutation(X_res.shape[0])\n",
        "# X_res = X_res[perms]\n",
        "# y_res = y_res[perms]\n",
        "\n",
        "# # Define base learners\n",
        "# xgb_clf = xgb.XGBClassifier(objective=\"binary:logistic\",\n",
        "#                             learning_rate=0.03,\n",
        "#                             n_estimators=500,\n",
        "#                             max_depth=1,\n",
        "#                             subsample=0.4,\n",
        "#                             random_state=123)\n",
        "# svm_clf = svm.SVC(gamma=0.1,\n",
        "#               C=0.01,\n",
        "#               kernel=\"poly\",\n",
        "#               degree=3,\n",
        "#               coef0=10.0,\n",
        "#               probability=True)\n",
        "# rf_clf = RandomForestClassifier(n_estimators=300,\n",
        "#                                 max_features=\"sqrt\",\n",
        "#                                 criterion=\"gini\",\n",
        "#                                 min_samples_leaf=5,\n",
        "#                                 class_weight=\"balanced\")\n",
        "\n",
        "# # Define meta-learner\n",
        "# logreg_clf = LogisticRegression(penalty=\"l2\", C=100, fit_intercept=True)\n",
        "# # Fitting voting clf --> average ensemble\n",
        "# voting_clf = VotingClassifier([(\"xgb\", xgb_clf),\n",
        "#                                (\"svm\", svm_clf),\n",
        "#                                (\"rf\", rf_clf)],\n",
        "#                               voting=\"soft\",\n",
        "#                               flatten_transform=True)\n",
        "# voting_clf.fit(X_res, y_res)"
      ],
      "execution_count": null,
      "outputs": []
    },
    {
      "cell_type": "code",
      "metadata": {
        "id": "opFlHoSrfsNA",
        "colab_type": "code",
        "colab": {}
      },
      "source": [
        "# from sklearn.pipeline import make_pipeline\n",
        "# from sklearn.preprocessing import FunctionTransformer\n",
        "# from sklearn.model_selection import cross_val_predict\n",
        "\n",
        "# xgb_model, svm_model, rf_model = voting_clf.estimators_\n",
        "# models = {\"xgb\": xgb_model,\n",
        "#           \"svm\": svm_model,\n",
        "#           \"rf\": rf_model,\n",
        "#           \"avg_ensemble\": voting_clf}\n",
        "\n",
        "# # Build first stack of base learners\n",
        "# first_stack = make_pipeline(voting_clf, FunctionTransformer(lambda X: X[:, 1::2]))\n",
        "\n",
        "# # Use CV to generate meta-features\n",
        "# meta_features = cross_val_predict(first_stack, X_res, y_res, cv=10, method=\"transform\")\n",
        "\n",
        "# # Refit the first stack on the full training set\n",
        "# first_stack.fit(X_res, y_res)\n",
        "\n",
        "# # Fit the meta learner\n",
        "# second_stack = logreg_clf.fit(meta_features, y_res)\n"
      ],
      "execution_count": null,
      "outputs": []
    },
    {
      "cell_type": "code",
      "metadata": {
        "id": "ARuPT3WPgzE6",
        "colab_type": "code",
        "colab": {}
      },
      "source": [
        "# stacked_probs = second_stack.predict(first_stack.transform(X_train.values))\n",
        "# stacked_probs\n",
        "# stacked_auc_score = roc_auc_score(y_validation.values, stacked_probs)"
      ],
      "execution_count": null,
      "outputs": []
    },
    {
      "cell_type": "code",
      "metadata": {
        "id": "Bxeh33JonvJt",
        "colab_type": "code",
        "colab": {}
      },
      "source": [
        "# from sklearn.neural_network import MLPClassifier\n",
        "# clf = MLPClassifier(solver='adam', activation='tanh', alpha=0.0001, max_iter=10000, hidden_layer_sizes=(150,150,50), random_state=1)\n",
        "# clf.fit(X_train, y_train)"
      ],
      "execution_count": null,
      "outputs": []
    },
    {
      "cell_type": "code",
      "metadata": {
        "id": "zY89do-QQfIL",
        "colab_type": "code",
        "colab": {}
      },
      "source": [
        "# from sklearn.naive_bayes import GaussianNB\n",
        "\n",
        "# model = GaussianNB()\n",
        "# model.fit(X_train, y_train)"
      ],
      "execution_count": null,
      "outputs": []
    },
    {
      "cell_type": "code",
      "metadata": {
        "id": "OFnpa-G_9IQA",
        "colab_type": "code",
        "colab": {}
      },
      "source": [
        "# import tensorflow as tf\n",
        "\n",
        "# model = tf.keras.Sequential([\n",
        "#             tf.keras.layers.Flatten(),\n",
        "#             tf.keras.layers.Dense(100, activation='relu'),\n",
        "#             tf.keras.layers.Dense(100, activation='relu'),\n",
        "#             tf.keras.layers.Dense(50, activation='relu'),\n",
        "#             tf.keras.layers.Dropout(0.5),\n",
        "#             tf.keras.layers.Dense(2, activation='softmax')\n",
        "# ])\n",
        "\n",
        "# model.compile(loss='binary_crossentropy',\n",
        "#               optimizer='adam',\n",
        "#               metrics=['accuracy']\n",
        "#               )\n",
        "\n",
        "# history=model.fit(\n",
        "#   X_train,\n",
        "#   y_train,\n",
        "#   steps_per_epoch=10000,\n",
        "#   epochs=50,\n",
        "#   validation_data=(X_validation, y_validation)\n",
        "#   )\n",
        "\n",
        "\n",
        "# model.summary()"
      ],
      "execution_count": null,
      "outputs": []
    },
    {
      "cell_type": "code",
      "metadata": {
        "id": "hqg1u3aCEyGz",
        "colab_type": "code",
        "colab": {}
      },
      "source": [
        "# from sklearn.neighbors import KNeighborsClassifier\n",
        "\n",
        "# model = KNeighborsClassifier(n_neighbors=2, metric='minkowski', weights='distance')\n",
        "\n",
        "# model.fit(X_train, y_train)"
      ],
      "execution_count": null,
      "outputs": []
    },
    {
      "cell_type": "code",
      "metadata": {
        "id": "P4UTDi5zHZDC",
        "colab_type": "code",
        "colab": {}
      },
      "source": [
        "# from sklearn import svm\n",
        "\n",
        "# model = svm.SVC()\n",
        "# model.fit(X_train, y_train)"
      ],
      "execution_count": null,
      "outputs": []
    },
    {
      "cell_type": "code",
      "metadata": {
        "id": "S0Ji0g1MUGDs",
        "colab_type": "code",
        "colab": {}
      },
      "source": [
        "# from sklearn.ensemble import ExtraTreesClassifier\n",
        "\n",
        "# model = ExtraTreesClassifier()\n",
        "# model.fit(X_train,y_train)"
      ],
      "execution_count": null,
      "outputs": []
    },
    {
      "cell_type": "code",
      "metadata": {
        "id": "NiqoUFrfaO7c",
        "colab_type": "code",
        "colab": {
          "base_uri": "https://localhost:8080/",
          "height": 102
        },
        "outputId": "d804eaba-3cb2-4fab-d114-a80da7accb62"
      },
      "source": [
        "from sklearn.ensemble import RandomForestClassifier\n",
        "from sklearn.ensemble import BaggingClassifier\n",
        "from sklearn.tree import DecisionTreeClassifier\n",
        "from sklearn.ensemble import VotingClassifier\n",
        "from sklearn.linear_model import LogisticRegression\n",
        "from sklearn import svm\n",
        "\n",
        "# model = RandomForestClassifier(random_state = 1, max_depth = 15, n_estimators = 500, min_samples_split = 2, min_samples_leaf = 1)\n",
        "model = LogisticRegression(penalty='elasticnet', solver='saga', multi_class='multinomial', max_iter=300, C=1, l1_ratio=0.8)\n",
        "# sv = svm.SVC(kernel='poly', degree=3, C=1)\n",
        "\n",
        "# model = VotingClassifier(estimators=([('svc', sv), ('dt', dtc), ('lr', lr)]), voting='hard')\n",
        "model.fit(X_train,y_train)"
      ],
      "execution_count": null,
      "outputs": [
        {
          "output_type": "execute_result",
          "data": {
            "text/plain": [
              "LogisticRegression(C=1, class_weight=None, dual=False, fit_intercept=True,\n",
              "                   intercept_scaling=1, l1_ratio=0.8, max_iter=300,\n",
              "                   multi_class='multinomial', n_jobs=None, penalty='elasticnet',\n",
              "                   random_state=None, solver='saga', tol=0.0001, verbose=0,\n",
              "                   warm_start=False)"
            ]
          },
          "metadata": {
            "tags": []
          },
          "execution_count": 352
        }
      ]
    },
    {
      "cell_type": "code",
      "metadata": {
        "id": "2RmoluR8wxgx",
        "colab_type": "code",
        "colab": {}
      },
      "source": [
        "# from sklearn.ensemble import AdaBoostClassifier\n",
        "# from sklearn.ensemble import GradientBoostingClassifier\n",
        "# from sklearn.ensemble import RandomForestClassifier\n",
        "\n",
        "# model = GradientBoostingClassifier(RandomForestClassifier(random_state = 1, max_depth = 15, n_estimators = 500, min_samples_split = 2, min_samples_leaf = 1), n_estimators=40, learning_rate=0.1)\n",
        "# model = GradientBoostingClassifier(DecisionTreeClassifier())\n",
        "# model.fit(X_train, y_train)"
      ],
      "execution_count": null,
      "outputs": []
    },
    {
      "cell_type": "code",
      "metadata": {
        "id": "Mujs0uMhyPA-",
        "colab_type": "code",
        "colab": {}
      },
      "source": [
        "# from sklearn.naive_bayes import BernoulliNB\n",
        "# multiNB = BernoulliNB(binarize=0.1)\n",
        "\n",
        "# model = multiNB.fit(X_train, y_train)"
      ],
      "execution_count": null,
      "outputs": []
    },
    {
      "cell_type": "code",
      "metadata": {
        "id": "IbYZRq9PWosk",
        "colab_type": "code",
        "colab": {}
      },
      "source": [
        "# from sklearn.model_selection import GridSearchCV\n",
        "\n",
        "# n_estimators = [100, 300, 500, 800, 1200]\n",
        "# max_depth = [5, 8, 15, 25, 30]\n",
        "# min_samples_split = [2, 5, 10, 15, 100]\n",
        "# min_samples_leaf = [1, 2, 5, 10] \n",
        "\n",
        "# hyperF = dict(n_estimators = n_estimators, max_depth = max_depth,  \n",
        "#               min_samples_split = min_samples_split, \n",
        "#              min_samples_leaf = min_samples_leaf)\n",
        "\n",
        "# gridF = GridSearchCV(RandomForestClassifier(random_state = 1, max_depth = 15, n_estimators = 500, min_samples_split = 2, min_samples_leaf = 1), hyperF, cv = 3, verbose = 1, n_jobs = -1)\n",
        "# model = gridF.fit(X_train, y_train)"
      ],
      "execution_count": null,
      "outputs": []
    },
    {
      "cell_type": "code",
      "metadata": {
        "id": "zzXjvdnN_jQ0",
        "colab_type": "code",
        "colab": {}
      },
      "source": [
        "# N = 20\n",
        "# plt.style.use(\"ggplot\")\n",
        "# plt.figure()\n",
        "# plt.plot(np.arange(0, N), history.history[\"loss\"], label=\"train_loss\")\n",
        "# plt.plot(np.arange(0, N), history.history[\"val_loss\"], label=\"val_loss\")\n",
        "# plt.plot(np.arange(0, N), history.history[\"accuracy\"], label=\"train_acc\")\n",
        "# plt.plot(np.arange(0, N), history.history[\"val_accuracy\"], label=\"val_acc\")\n",
        "# plt.title(\"Training Loss and Accuracy\")\n",
        "# plt.xlabel(\"Epoch #\")\n",
        "# plt.ylabel(\"Loss/Accuracy\")\n",
        "# plt.legend(loc=\"lower left\")"
      ],
      "execution_count": null,
      "outputs": []
    },
    {
      "cell_type": "code",
      "metadata": {
        "id": "obuzjHhgo7tB",
        "colab_type": "code",
        "colab": {}
      },
      "source": [
        "from sklearn.metrics import r2_score\n",
        "from sklearn.metrics import f1_score\n",
        "from sklearn.metrics import accuracy_score\n",
        "\n",
        "Y_predict_training = model.predict(X_train)\n",
        "# stacked_probs = second_stack.predict(first_stack.transform(X_validation.values))"
      ],
      "execution_count": null,
      "outputs": []
    },
    {
      "cell_type": "code",
      "metadata": {
        "id": "S88cJWdFL8Gn",
        "colab_type": "code",
        "colab": {
          "base_uri": "https://localhost:8080/",
          "height": 34
        },
        "outputId": "1475513c-78e7-4bc0-bc48-f10b6676a782"
      },
      "source": [
        "# Y_predict_training=Y_predict_training+1\n",
        "Y_predict_training"
      ],
      "execution_count": null,
      "outputs": [
        {
          "output_type": "execute_result",
          "data": {
            "text/plain": [
              "array([1, 1, 1, ..., 1, 1, 1], dtype=int64)"
            ]
          },
          "metadata": {
            "tags": []
          },
          "execution_count": 354
        }
      ]
    },
    {
      "cell_type": "code",
      "metadata": {
        "id": "G6F7BxnaK14v",
        "colab_type": "code",
        "colab": {
          "base_uri": "https://localhost:8080/",
          "height": 34
        },
        "outputId": "c21780a2-d8e2-425a-87a5-90198735e44a"
      },
      "source": [
        "accuracy_score(y_train, Y_predict_training)\n",
        "# y_train"
      ],
      "execution_count": null,
      "outputs": [
        {
          "output_type": "execute_result",
          "data": {
            "text/plain": [
              "0.810440314902966"
            ]
          },
          "metadata": {
            "tags": []
          },
          "execution_count": 355
        }
      ]
    },
    {
      "cell_type": "code",
      "metadata": {
        "id": "rQpcIp1mtaR6",
        "colab_type": "code",
        "colab": {
          "base_uri": "https://localhost:8080/",
          "height": 34
        },
        "outputId": "b42dbde1-8ffe-44e2-a5ee-efbc66e65dad"
      },
      "source": [
        "f1_score(y_train, Y_predict_training)"
      ],
      "execution_count": null,
      "outputs": [
        {
          "output_type": "execute_result",
          "data": {
            "text/plain": [
              "0.8894140265149998"
            ]
          },
          "metadata": {
            "tags": []
          },
          "execution_count": 356
        }
      ]
    },
    {
      "cell_type": "code",
      "metadata": {
        "id": "VTGk4qZ3xZxu",
        "colab_type": "code",
        "colab": {
          "base_uri": "https://localhost:8080/",
          "height": 34
        },
        "outputId": "ad06cb87-5d0e-4472-8eb1-11bcae674598"
      },
      "source": [
        "Y_predict_validation = model.predict(X_validation)\n",
        "# stacked_probs = second_stack.predict(first_stack.transform(X_validation.values))\n",
        "accuracy_score(y_validation, Y_predict_validation)"
      ],
      "execution_count": null,
      "outputs": [
        {
          "output_type": "execute_result",
          "data": {
            "text/plain": [
              "0.8108609089660854"
            ]
          },
          "metadata": {
            "tags": []
          },
          "execution_count": 357
        }
      ]
    },
    {
      "cell_type": "code",
      "metadata": {
        "id": "kyMrz6Yup00d",
        "colab_type": "code",
        "colab": {
          "base_uri": "https://localhost:8080/",
          "height": 34
        },
        "outputId": "598ef874-ce00-4c00-9ec8-3195ec3c4cdf"
      },
      "source": [
        "X_train.shape"
      ],
      "execution_count": null,
      "outputs": [
        {
          "output_type": "execute_result",
          "data": {
            "text/plain": [
              "(43696, 13)"
            ]
          },
          "metadata": {
            "tags": []
          },
          "execution_count": 305
        }
      ]
    },
    {
      "cell_type": "code",
      "metadata": {
        "id": "_NOydVFKpojO",
        "colab_type": "code",
        "colab": {
          "base_uri": "https://localhost:8080/",
          "height": 423
        },
        "outputId": "2335f4df-7c3d-4ee2-d0a2-6d7659bccb20"
      },
      "source": [
        "test = pd.read_csv('test.csv')\n",
        "\n",
        "ID_test = test['Loan.ID']\n",
        "test.drop(['Months.since.last.delinquent', 'Loan.ID', 'Loan.Status'], axis=1, inplace=True)\n",
        "\n",
        "print(test.shape)\n",
        "\n",
        "plt.figure()\n",
        "sns.heatmap(test.isnull(),yticklabels=False,cbar=False,cmap='viridis')"
      ],
      "execution_count": null,
      "outputs": [
        {
          "output_type": "stream",
          "text": [
            "(23386, 15)\n"
          ],
          "name": "stdout"
        },
        {
          "output_type": "execute_result",
          "data": {
            "text/plain": [
              "<matplotlib.axes._subplots.AxesSubplot at 0x7f2f3f8e2d30>"
            ]
          },
          "metadata": {
            "tags": []
          },
          "execution_count": 306
        },
        {
          "output_type": "display_data",
          "data": {
            "image/png": "[encoded data removed]",
            "text/plain": [
              "<Figure size 432x288 with 1 Axes>"
            ]
          },
          "metadata": {
            "tags": [],
            "needs_background": "light"
          }
        }
      ]
    },
    {
      "cell_type": "code",
      "metadata": {
        "id": "muWEecF27bgZ",
        "colab_type": "code",
        "colab": {
          "base_uri": "https://localhost:8080/",
          "height": 698
        },
        "outputId": "4dc2412d-58ca-4507-cbe1-0ea3b7b4454f"
      },
      "source": [
        "mean_Bankruptcies=np.mean(test['Credit.Score'])\n",
        "test['Credit.Score'].fillna(mean_Bankruptcies, inplace=True)\n",
        "\n",
        "mean_Bankruptcies=np.mean(test['Bankruptcies'])\n",
        "test['Bankruptcies'].fillna(mean_Bankruptcies, inplace=True)\n",
        "\n",
        "mean_Bankruptcies=np.mean(test['Tax.Liens'])\n",
        "test['Tax.Liens'].fillna(mean_Bankruptcies, inplace=True)\n",
        "\n",
        "mean_Bankruptcies=np.mean(test['Annual.Income'])\n",
        "test['Annual.Income'].fillna(mean_Bankruptcies, inplace=True)\n",
        "\n",
        "test['Years.in.current.job'].fillna(test['Years.in.current.job'].mode()[0], inplace=True)\n",
        "\n",
        "plt.figure()\n",
        "sns.heatmap(test.isnull(),yticklabels=False,cbar=False,cmap='viridis')\n",
        "\n",
        "print(test.shape)\n",
        "test.head()"
      ],
      "execution_count": null,
      "outputs": [
        {
          "output_type": "stream",
          "text": [
            "(23386, 15)\n"
          ],
          "name": "stdout"
        },
        {
          "output_type": "execute_result",
          "data": {
            "text/html": [
              "<div>\n",
              "<style scoped>\n",
              "    .dataframe tbody tr th:only-of-type {\n",
              "        vertical-align: middle;\n",
              "    }\n",
              "\n",
              "    .dataframe tbody tr th {\n",
              "        vertical-align: top;\n",
              "    }\n",
              "\n",
              "    .dataframe thead th {\n",
              "        text-align: right;\n",
              "    }\n",
              "</style>\n",
              "<table border=\"1\" class=\"dataframe\">\n",
              "  <thead>\n",
              "    <tr style=\"text-align: right;\">\n",
              "      <th></th>\n",
              "      <th>Current.Loan.Amount</th>\n",
              "      <th>Term</th>\n",
              "      <th>Credit.Score</th>\n",
              "      <th>Years.in.current.job</th>\n",
              "      <th>Home.Ownership</th>\n",
              "      <th>Annual.Income</th>\n",
              "      <th>Purpose</th>\n",
              "      <th>Monthly.Debt</th>\n",
              "      <th>Years.of.Credit.History</th>\n",
              "      <th>Number.of.Open.Accounts</th>\n",
              "      <th>Number.of.Credit.Problems</th>\n",
              "      <th>Current.Credit.Balance</th>\n",
              "      <th>Maximum.Open.Credit</th>\n",
              "      <th>Bankruptcies</th>\n",
              "      <th>Tax.Liens</th>\n",
              "    </tr>\n",
              "  </thead>\n",
              "  <tbody>\n",
              "    <tr>\n",
              "      <th>0</th>\n",
              "      <td>6966</td>\n",
              "      <td>Short Term</td>\n",
              "      <td>673.000000</td>\n",
              "      <td>1 year</td>\n",
              "      <td>Home Mortgage</td>\n",
              "      <td>54736.000000</td>\n",
              "      <td>Home Improvements</td>\n",
              "      <td>839.28</td>\n",
              "      <td>16.4</td>\n",
              "      <td>6</td>\n",
              "      <td>0</td>\n",
              "      <td>2942</td>\n",
              "      <td>3881</td>\n",
              "      <td>0.0</td>\n",
              "      <td>0.0</td>\n",
              "    </tr>\n",
              "    <tr>\n",
              "      <th>1</th>\n",
              "      <td>9848</td>\n",
              "      <td>Short Term</td>\n",
              "      <td>1088.580737</td>\n",
              "      <td>6 years</td>\n",
              "      <td>Rent</td>\n",
              "      <td>72245.545225</td>\n",
              "      <td>Debt Consolidation</td>\n",
              "      <td>605.65</td>\n",
              "      <td>18.8</td>\n",
              "      <td>6</td>\n",
              "      <td>0</td>\n",
              "      <td>6957</td>\n",
              "      <td>8568</td>\n",
              "      <td>0.0</td>\n",
              "      <td>0.0</td>\n",
              "    </tr>\n",
              "    <tr>\n",
              "      <th>2</th>\n",
              "      <td>99999999</td>\n",
              "      <td>Short Term</td>\n",
              "      <td>724.000000</td>\n",
              "      <td>3 years</td>\n",
              "      <td>Rent</td>\n",
              "      <td>27462.000000</td>\n",
              "      <td>Debt Consolidation</td>\n",
              "      <td>338.69</td>\n",
              "      <td>10.8</td>\n",
              "      <td>10</td>\n",
              "      <td>0</td>\n",
              "      <td>11773</td>\n",
              "      <td>15369</td>\n",
              "      <td>0.0</td>\n",
              "      <td>0.0</td>\n",
              "    </tr>\n",
              "    <tr>\n",
              "      <th>3</th>\n",
              "      <td>6737</td>\n",
              "      <td>Short Term</td>\n",
              "      <td>1088.580737</td>\n",
              "      <td>3 years</td>\n",
              "      <td>Rent</td>\n",
              "      <td>72245.545225</td>\n",
              "      <td>Debt Consolidation</td>\n",
              "      <td>506.38</td>\n",
              "      <td>5.7</td>\n",
              "      <td>9</td>\n",
              "      <td>0</td>\n",
              "      <td>5841</td>\n",
              "      <td>10856</td>\n",
              "      <td>0.0</td>\n",
              "      <td>0.0</td>\n",
              "    </tr>\n",
              "    <tr>\n",
              "      <th>4</th>\n",
              "      <td>5878</td>\n",
              "      <td>Short Term</td>\n",
              "      <td>743.000000</td>\n",
              "      <td>less than  1 year</td>\n",
              "      <td>Home Mortgage</td>\n",
              "      <td>107767.000000</td>\n",
              "      <td>Home Improvements</td>\n",
              "      <td>1420.73</td>\n",
              "      <td>24.6</td>\n",
              "      <td>14</td>\n",
              "      <td>0</td>\n",
              "      <td>35963</td>\n",
              "      <td>89459</td>\n",
              "      <td>0.0</td>\n",
              "      <td>0.0</td>\n",
              "    </tr>\n",
              "  </tbody>\n",
              "</table>\n",
              "</div>"
            ],
            "text/plain": [
              "   Current.Loan.Amount        Term  ...  Bankruptcies Tax.Liens\n",
              "0                 6966  Short Term  ...           0.0       0.0\n",
              "1                 9848  Short Term  ...           0.0       0.0\n",
              "2             99999999  Short Term  ...           0.0       0.0\n",
              "3                 6737  Short Term  ...           0.0       0.0\n",
              "4                 5878  Short Term  ...           0.0       0.0\n",
              "\n",
              "[5 rows x 15 columns]"
            ]
          },
          "metadata": {
            "tags": []
          },
          "execution_count": 307
        },
        {
          "output_type": "display_data",
          "data": {
            "image/png": "[encoded data removed]",
            "text/plain": [
              "<Figure size 432x288 with 1 Axes>"
            ]
          },
          "metadata": {
            "tags": [],
            "needs_background": "light"
          }
        }
      ]
    },
    {
      "cell_type": "code",
      "metadata": {
        "id": "XpefLEOHKKX9",
        "colab_type": "code",
        "colab": {
          "base_uri": "https://localhost:8080/",
          "height": 224
        },
        "outputId": "e2ef1da6-e62f-4977-ba5a-d9bab8fd172f"
      },
      "source": [
        "from sklearn.preprocessing import LabelEncoder\n",
        "X=test\n",
        "categorical_feature_mask = X.dtypes==object\n",
        "\n",
        "categorical_cols = X.columns[categorical_feature_mask].tolist()\n",
        "\n",
        "le = LabelEncoder()\n",
        "X[categorical_cols] = X[categorical_cols].apply(lambda col: le.fit_transform(col))+1\n",
        "test = X\n",
        "\n",
        "test.head()"
      ],
      "execution_count": null,
      "outputs": [
        {
          "output_type": "execute_result",
          "data": {
            "text/html": [
              "<div>\n",
              "<style scoped>\n",
              "    .dataframe tbody tr th:only-of-type {\n",
              "        vertical-align: middle;\n",
              "    }\n",
              "\n",
              "    .dataframe tbody tr th {\n",
              "        vertical-align: top;\n",
              "    }\n",
              "\n",
              "    .dataframe thead th {\n",
              "        text-align: right;\n",
              "    }\n",
              "</style>\n",
              "<table border=\"1\" class=\"dataframe\">\n",
              "  <thead>\n",
              "    <tr style=\"text-align: right;\">\n",
              "      <th></th>\n",
              "      <th>Current.Loan.Amount</th>\n",
              "      <th>Term</th>\n",
              "      <th>Credit.Score</th>\n",
              "      <th>Years.in.current.job</th>\n",
              "      <th>Home.Ownership</th>\n",
              "      <th>Annual.Income</th>\n",
              "      <th>Purpose</th>\n",
              "      <th>Monthly.Debt</th>\n",
              "      <th>Years.of.Credit.History</th>\n",
              "      <th>Number.of.Open.Accounts</th>\n",
              "      <th>Number.of.Credit.Problems</th>\n",
              "      <th>Current.Credit.Balance</th>\n",
              "      <th>Maximum.Open.Credit</th>\n",
              "      <th>Bankruptcies</th>\n",
              "      <th>Tax.Liens</th>\n",
              "    </tr>\n",
              "  </thead>\n",
              "  <tbody>\n",
              "    <tr>\n",
              "      <th>0</th>\n",
              "      <td>6966</td>\n",
              "      <td>2</td>\n",
              "      <td>673.000000</td>\n",
              "      <td>1</td>\n",
              "      <td>2</td>\n",
              "      <td>54736.000000</td>\n",
              "      <td>6</td>\n",
              "      <td>839.28</td>\n",
              "      <td>16.4</td>\n",
              "      <td>6</td>\n",
              "      <td>0</td>\n",
              "      <td>2942</td>\n",
              "      <td>3881</td>\n",
              "      <td>0.0</td>\n",
              "      <td>0.0</td>\n",
              "    </tr>\n",
              "    <tr>\n",
              "      <th>1</th>\n",
              "      <td>9848</td>\n",
              "      <td>2</td>\n",
              "      <td>1088.580737</td>\n",
              "      <td>7</td>\n",
              "      <td>4</td>\n",
              "      <td>72245.545225</td>\n",
              "      <td>4</td>\n",
              "      <td>605.65</td>\n",
              "      <td>18.8</td>\n",
              "      <td>6</td>\n",
              "      <td>0</td>\n",
              "      <td>6957</td>\n",
              "      <td>8568</td>\n",
              "      <td>0.0</td>\n",
              "      <td>0.0</td>\n",
              "    </tr>\n",
              "    <tr>\n",
              "      <th>2</th>\n",
              "      <td>99999999</td>\n",
              "      <td>2</td>\n",
              "      <td>724.000000</td>\n",
              "      <td>4</td>\n",
              "      <td>4</td>\n",
              "      <td>27462.000000</td>\n",
              "      <td>4</td>\n",
              "      <td>338.69</td>\n",
              "      <td>10.8</td>\n",
              "      <td>10</td>\n",
              "      <td>0</td>\n",
              "      <td>11773</td>\n",
              "      <td>15369</td>\n",
              "      <td>0.0</td>\n",
              "      <td>0.0</td>\n",
              "    </tr>\n",
              "    <tr>\n",
              "      <th>3</th>\n",
              "      <td>6737</td>\n",
              "      <td>2</td>\n",
              "      <td>1088.580737</td>\n",
              "      <td>4</td>\n",
              "      <td>4</td>\n",
              "      <td>72245.545225</td>\n",
              "      <td>4</td>\n",
              "      <td>506.38</td>\n",
              "      <td>5.7</td>\n",
              "      <td>9</td>\n",
              "      <td>0</td>\n",
              "      <td>5841</td>\n",
              "      <td>10856</td>\n",
              "      <td>0.0</td>\n",
              "      <td>0.0</td>\n",
              "    </tr>\n",
              "    <tr>\n",
              "      <th>4</th>\n",
              "      <td>5878</td>\n",
              "      <td>2</td>\n",
              "      <td>743.000000</td>\n",
              "      <td>11</td>\n",
              "      <td>2</td>\n",
              "      <td>107767.000000</td>\n",
              "      <td>6</td>\n",
              "      <td>1420.73</td>\n",
              "      <td>24.6</td>\n",
              "      <td>14</td>\n",
              "      <td>0</td>\n",
              "      <td>35963</td>\n",
              "      <td>89459</td>\n",
              "      <td>0.0</td>\n",
              "      <td>0.0</td>\n",
              "    </tr>\n",
              "  </tbody>\n",
              "</table>\n",
              "</div>"
            ],
            "text/plain": [
              "   Current.Loan.Amount  Term  ...  Bankruptcies  Tax.Liens\n",
              "0                 6966     2  ...           0.0        0.0\n",
              "1                 9848     2  ...           0.0        0.0\n",
              "2             99999999     2  ...           0.0        0.0\n",
              "3                 6737     2  ...           0.0        0.0\n",
              "4                 5878     2  ...           0.0        0.0\n",
              "\n",
              "[5 rows x 15 columns]"
            ]
          },
          "metadata": {
            "tags": []
          },
          "execution_count": 308
        }
      ]
    },
    {
      "cell_type": "code",
      "metadata": {
        "id": "7Teq-WqzBu1n",
        "colab_type": "code",
        "colab": {}
      },
      "source": [
        "# gross_monthly_income = (test['Annual.Income']/12)-test['Monthly.Debt']\n",
        "# test.insert(6, column='Gross.Monthly.Income', value=gross_monthly_income)\n",
        "# test.drop(columns=['Monthly.Debt', 'Annual.Income'], axis=1, inplace=True)\n",
        "\n",
        "# test['Gross.Monthly.Income'] = test['Gross.Monthly.Income'].apply(np.log)"
      ],
      "execution_count": null,
      "outputs": []
    },
    {
      "cell_type": "code",
      "metadata": {
        "id": "f4TdRFof7EFo",
        "colab_type": "code",
        "colab": {
          "base_uri": "https://localhost:8080/",
          "height": 224
        },
        "outputId": "2fd90d92-22bf-47c6-be05-ed9035c50183"
      },
      "source": [
        "test['Current.Loan.Amount'] = test['Current.Loan.Amount'].apply(np.log)\n",
        "\n",
        "test['Credit.Score'] = test['Credit.Score'].apply(np.log)\n",
        "\n",
        "test['Annual.Income'] = test['Annual.Income'].apply(np.log)\n",
        "\n",
        "test['Years.of.Credit.History'] = test['Years.of.Credit.History'].apply(np.log)\n",
        "\n",
        "ac = test['Maximum.Open.Credit'].values-test['Current.Credit.Balance'].values\n",
        "ac=ac+1\n",
        "test.insert(15, column='Available.Credits', value=ac)\n",
        "test.drop(columns=['Current.Credit.Balance', 'Maximum.Open.Credit'], axis=1, inplace=True)\n",
        "\n",
        "test['Available.Credits'] = test['Available.Credits']+0.5\n",
        "len(test[test['Available.Credits'] == 0 ])\n",
        "\n",
        "test.head()"
      ],
      "execution_count": null,
      "outputs": [
        {
          "output_type": "execute_result",
          "data": {
            "text/html": [
              "<div>\n",
              "<style scoped>\n",
              "    .dataframe tbody tr th:only-of-type {\n",
              "        vertical-align: middle;\n",
              "    }\n",
              "\n",
              "    .dataframe tbody tr th {\n",
              "        vertical-align: top;\n",
              "    }\n",
              "\n",
              "    .dataframe thead th {\n",
              "        text-align: right;\n",
              "    }\n",
              "</style>\n",
              "<table border=\"1\" class=\"dataframe\">\n",
              "  <thead>\n",
              "    <tr style=\"text-align: right;\">\n",
              "      <th></th>\n",
              "      <th>Current.Loan.Amount</th>\n",
              "      <th>Term</th>\n",
              "      <th>Credit.Score</th>\n",
              "      <th>Years.in.current.job</th>\n",
              "      <th>Home.Ownership</th>\n",
              "      <th>Annual.Income</th>\n",
              "      <th>Purpose</th>\n",
              "      <th>Monthly.Debt</th>\n",
              "      <th>Years.of.Credit.History</th>\n",
              "      <th>Number.of.Open.Accounts</th>\n",
              "      <th>Number.of.Credit.Problems</th>\n",
              "      <th>Bankruptcies</th>\n",
              "      <th>Tax.Liens</th>\n",
              "      <th>Available.Credits</th>\n",
              "    </tr>\n",
              "  </thead>\n",
              "  <tbody>\n",
              "    <tr>\n",
              "      <th>0</th>\n",
              "      <td>8.848796</td>\n",
              "      <td>2</td>\n",
              "      <td>6.511745</td>\n",
              "      <td>1</td>\n",
              "      <td>2</td>\n",
              "      <td>10.910277</td>\n",
              "      <td>6</td>\n",
              "      <td>839.28</td>\n",
              "      <td>2.797281</td>\n",
              "      <td>6</td>\n",
              "      <td>0</td>\n",
              "      <td>0.0</td>\n",
              "      <td>0.0</td>\n",
              "      <td>940.5</td>\n",
              "    </tr>\n",
              "    <tr>\n",
              "      <th>1</th>\n",
              "      <td>9.195024</td>\n",
              "      <td>2</td>\n",
              "      <td>6.992630</td>\n",
              "      <td>7</td>\n",
              "      <td>4</td>\n",
              "      <td>11.187826</td>\n",
              "      <td>4</td>\n",
              "      <td>605.65</td>\n",
              "      <td>2.933857</td>\n",
              "      <td>6</td>\n",
              "      <td>0</td>\n",
              "      <td>0.0</td>\n",
              "      <td>0.0</td>\n",
              "      <td>1612.5</td>\n",
              "    </tr>\n",
              "    <tr>\n",
              "      <th>2</th>\n",
              "      <td>18.420681</td>\n",
              "      <td>2</td>\n",
              "      <td>6.584791</td>\n",
              "      <td>4</td>\n",
              "      <td>4</td>\n",
              "      <td>10.220559</td>\n",
              "      <td>4</td>\n",
              "      <td>338.69</td>\n",
              "      <td>2.379546</td>\n",
              "      <td>10</td>\n",
              "      <td>0</td>\n",
              "      <td>0.0</td>\n",
              "      <td>0.0</td>\n",
              "      <td>3597.5</td>\n",
              "    </tr>\n",
              "    <tr>\n",
              "      <th>3</th>\n",
              "      <td>8.815370</td>\n",
              "      <td>2</td>\n",
              "      <td>6.992630</td>\n",
              "      <td>4</td>\n",
              "      <td>4</td>\n",
              "      <td>11.187826</td>\n",
              "      <td>4</td>\n",
              "      <td>506.38</td>\n",
              "      <td>1.740466</td>\n",
              "      <td>9</td>\n",
              "      <td>0</td>\n",
              "      <td>0.0</td>\n",
              "      <td>0.0</td>\n",
              "      <td>5016.5</td>\n",
              "    </tr>\n",
              "    <tr>\n",
              "      <th>4</th>\n",
              "      <td>8.678972</td>\n",
              "      <td>2</td>\n",
              "      <td>6.610696</td>\n",
              "      <td>11</td>\n",
              "      <td>2</td>\n",
              "      <td>11.587727</td>\n",
              "      <td>6</td>\n",
              "      <td>1420.73</td>\n",
              "      <td>3.202746</td>\n",
              "      <td>14</td>\n",
              "      <td>0</td>\n",
              "      <td>0.0</td>\n",
              "      <td>0.0</td>\n",
              "      <td>53497.5</td>\n",
              "    </tr>\n",
              "  </tbody>\n",
              "</table>\n",
              "</div>"
            ],
            "text/plain": [
              "   Current.Loan.Amount  Term  ...  Tax.Liens  Available.Credits\n",
              "0             8.848796     2  ...        0.0              940.5\n",
              "1             9.195024     2  ...        0.0             1612.5\n",
              "2            18.420681     2  ...        0.0             3597.5\n",
              "3             8.815370     2  ...        0.0             5016.5\n",
              "4             8.678972     2  ...        0.0            53497.5\n",
              "\n",
              "[5 rows x 14 columns]"
            ]
          },
          "metadata": {
            "tags": []
          },
          "execution_count": 310
        }
      ]
    },
    {
      "cell_type": "code",
      "metadata": {
        "id": "rqK_uyl-obXc",
        "colab_type": "code",
        "colab": {
          "base_uri": "https://localhost:8080/",
          "height": 224
        },
        "outputId": "d3277930-8875-457d-c7bc-f16f369927d0"
      },
      "source": [
        "EMI = test['Current.Loan.Amount']/test['Term']\n",
        "test.insert(0, column='EMI', value=EMI)\n",
        "test.drop(columns=['Current.Loan.Amount', 'Term'], axis=1, inplace=True)\n",
        "\n",
        "test.head()"
      ],
      "execution_count": null,
      "outputs": [
        {
          "output_type": "execute_result",
          "data": {
            "text/html": [
              "<div>\n",
              "<style scoped>\n",
              "    .dataframe tbody tr th:only-of-type {\n",
              "        vertical-align: middle;\n",
              "    }\n",
              "\n",
              "    .dataframe tbody tr th {\n",
              "        vertical-align: top;\n",
              "    }\n",
              "\n",
              "    .dataframe thead th {\n",
              "        text-align: right;\n",
              "    }\n",
              "</style>\n",
              "<table border=\"1\" class=\"dataframe\">\n",
              "  <thead>\n",
              "    <tr style=\"text-align: right;\">\n",
              "      <th></th>\n",
              "      <th>EMI</th>\n",
              "      <th>Credit.Score</th>\n",
              "      <th>Years.in.current.job</th>\n",
              "      <th>Home.Ownership</th>\n",
              "      <th>Annual.Income</th>\n",
              "      <th>Purpose</th>\n",
              "      <th>Monthly.Debt</th>\n",
              "      <th>Years.of.Credit.History</th>\n",
              "      <th>Number.of.Open.Accounts</th>\n",
              "      <th>Number.of.Credit.Problems</th>\n",
              "      <th>Bankruptcies</th>\n",
              "      <th>Tax.Liens</th>\n",
              "      <th>Available.Credits</th>\n",
              "    </tr>\n",
              "  </thead>\n",
              "  <tbody>\n",
              "    <tr>\n",
              "      <th>0</th>\n",
              "      <td>4.424398</td>\n",
              "      <td>6.511745</td>\n",
              "      <td>1</td>\n",
              "      <td>2</td>\n",
              "      <td>10.910277</td>\n",
              "      <td>6</td>\n",
              "      <td>839.28</td>\n",
              "      <td>2.797281</td>\n",
              "      <td>6</td>\n",
              "      <td>0</td>\n",
              "      <td>0.0</td>\n",
              "      <td>0.0</td>\n",
              "      <td>940.5</td>\n",
              "    </tr>\n",
              "    <tr>\n",
              "      <th>1</th>\n",
              "      <td>4.597512</td>\n",
              "      <td>6.992630</td>\n",
              "      <td>7</td>\n",
              "      <td>4</td>\n",
              "      <td>11.187826</td>\n",
              "      <td>4</td>\n",
              "      <td>605.65</td>\n",
              "      <td>2.933857</td>\n",
              "      <td>6</td>\n",
              "      <td>0</td>\n",
              "      <td>0.0</td>\n",
              "      <td>0.0</td>\n",
              "      <td>1612.5</td>\n",
              "    </tr>\n",
              "    <tr>\n",
              "      <th>2</th>\n",
              "      <td>9.210340</td>\n",
              "      <td>6.584791</td>\n",
              "      <td>4</td>\n",
              "      <td>4</td>\n",
              "      <td>10.220559</td>\n",
              "      <td>4</td>\n",
              "      <td>338.69</td>\n",
              "      <td>2.379546</td>\n",
              "      <td>10</td>\n",
              "      <td>0</td>\n",
              "      <td>0.0</td>\n",
              "      <td>0.0</td>\n",
              "      <td>3597.5</td>\n",
              "    </tr>\n",
              "    <tr>\n",
              "      <th>3</th>\n",
              "      <td>4.407685</td>\n",
              "      <td>6.992630</td>\n",
              "      <td>4</td>\n",
              "      <td>4</td>\n",
              "      <td>11.187826</td>\n",
              "      <td>4</td>\n",
              "      <td>506.38</td>\n",
              "      <td>1.740466</td>\n",
              "      <td>9</td>\n",
              "      <td>0</td>\n",
              "      <td>0.0</td>\n",
              "      <td>0.0</td>\n",
              "      <td>5016.5</td>\n",
              "    </tr>\n",
              "    <tr>\n",
              "      <th>4</th>\n",
              "      <td>4.339486</td>\n",
              "      <td>6.610696</td>\n",
              "      <td>11</td>\n",
              "      <td>2</td>\n",
              "      <td>11.587727</td>\n",
              "      <td>6</td>\n",
              "      <td>1420.73</td>\n",
              "      <td>3.202746</td>\n",
              "      <td>14</td>\n",
              "      <td>0</td>\n",
              "      <td>0.0</td>\n",
              "      <td>0.0</td>\n",
              "      <td>53497.5</td>\n",
              "    </tr>\n",
              "  </tbody>\n",
              "</table>\n",
              "</div>"
            ],
            "text/plain": [
              "        EMI  Credit.Score  ...  Tax.Liens  Available.Credits\n",
              "0  4.424398      6.511745  ...        0.0              940.5\n",
              "1  4.597512      6.992630  ...        0.0             1612.5\n",
              "2  9.210340      6.584791  ...        0.0             3597.5\n",
              "3  4.407685      6.992630  ...        0.0             5016.5\n",
              "4  4.339486      6.610696  ...        0.0            53497.5\n",
              "\n",
              "[5 rows x 13 columns]"
            ]
          },
          "metadata": {
            "tags": []
          },
          "execution_count": 311
        }
      ]
    },
    {
      "cell_type": "code",
      "metadata": {
        "id": "Qbt0CtO0svTu",
        "colab_type": "code",
        "colab": {
          "base_uri": "https://localhost:8080/",
          "height": 255
        },
        "outputId": "9fa32cd8-6a78-482a-c12a-b6eb6d6da76f"
      },
      "source": [
        "np.isfinite(test).all()"
      ],
      "execution_count": null,
      "outputs": [
        {
          "output_type": "execute_result",
          "data": {
            "text/plain": [
              "EMI                          True\n",
              "Credit.Score                 True\n",
              "Years.in.current.job         True\n",
              "Home.Ownership               True\n",
              "Annual.Income                True\n",
              "Purpose                      True\n",
              "Monthly.Debt                 True\n",
              "Years.of.Credit.History      True\n",
              "Number.of.Open.Accounts      True\n",
              "Number.of.Credit.Problems    True\n",
              "Bankruptcies                 True\n",
              "Tax.Liens                    True\n",
              "Available.Credits            True\n",
              "dtype: bool"
            ]
          },
          "metadata": {
            "tags": []
          },
          "execution_count": 312
        }
      ]
    },
    {
      "cell_type": "code",
      "metadata": {
        "id": "Q3VJa3dcI8sy",
        "colab_type": "code",
        "colab": {
          "base_uri": "https://localhost:8080/",
          "height": 224
        },
        "outputId": "400c3fb2-1946-4f20-f4b7-75a5492d015e"
      },
      "source": [
        "scaler = StandardScaler()\n",
        "scaler.fit(test)\n",
        "X_test = pd.DataFrame(scaler.transform(test), columns=test.columns)\n",
        "\n",
        "X_test.head()"
      ],
      "execution_count": null,
      "outputs": [
        {
          "output_type": "execute_result",
          "data": {
            "text/html": [
              "<div>\n",
              "<style scoped>\n",
              "    .dataframe tbody tr th:only-of-type {\n",
              "        vertical-align: middle;\n",
              "    }\n",
              "\n",
              "    .dataframe tbody tr th {\n",
              "        vertical-align: top;\n",
              "    }\n",
              "\n",
              "    .dataframe thead th {\n",
              "        text-align: right;\n",
              "    }\n",
              "</style>\n",
              "<table border=\"1\" class=\"dataframe\">\n",
              "  <thead>\n",
              "    <tr style=\"text-align: right;\">\n",
              "      <th></th>\n",
              "      <th>EMI</th>\n",
              "      <th>Credit.Score</th>\n",
              "      <th>Years.in.current.job</th>\n",
              "      <th>Home.Ownership</th>\n",
              "      <th>Annual.Income</th>\n",
              "      <th>Purpose</th>\n",
              "      <th>Monthly.Debt</th>\n",
              "      <th>Years.of.Credit.History</th>\n",
              "      <th>Number.of.Open.Accounts</th>\n",
              "      <th>Number.of.Credit.Problems</th>\n",
              "      <th>Bankruptcies</th>\n",
              "      <th>Tax.Liens</th>\n",
              "      <th>Available.Credits</th>\n",
              "    </tr>\n",
              "  </thead>\n",
              "  <tbody>\n",
              "    <tr>\n",
              "      <th>0</th>\n",
              "      <td>-0.731371</td>\n",
              "      <td>-0.516752</td>\n",
              "      <td>-1.151481</td>\n",
              "      <td>-0.974318</td>\n",
              "      <td>-0.349849</td>\n",
              "      <td>0.545404</td>\n",
              "      <td>-0.205387</td>\n",
              "      <td>-0.090111</td>\n",
              "      <td>-1.026789</td>\n",
              "      <td>-0.348223</td>\n",
              "      <td>-0.337128</td>\n",
              "      <td>-0.112406</td>\n",
              "      <td>-0.035549</td>\n",
              "    </tr>\n",
              "    <tr>\n",
              "      <th>1</th>\n",
              "      <td>-0.674488</td>\n",
              "      <td>0.458721</td>\n",
              "      <td>0.754582</td>\n",
              "      <td>1.121758</td>\n",
              "      <td>0.242661</td>\n",
              "      <td>-0.347259</td>\n",
              "      <td>-0.570870</td>\n",
              "      <td>0.271535</td>\n",
              "      <td>-1.026789</td>\n",
              "      <td>-0.348223</td>\n",
              "      <td>-0.337128</td>\n",
              "      <td>-0.112406</td>\n",
              "      <td>-0.034596</td>\n",
              "    </tr>\n",
              "    <tr>\n",
              "      <th>2</th>\n",
              "      <td>0.841213</td>\n",
              "      <td>-0.368578</td>\n",
              "      <td>-0.198450</td>\n",
              "      <td>1.121758</td>\n",
              "      <td>-1.822257</td>\n",
              "      <td>-0.347259</td>\n",
              "      <td>-0.988494</td>\n",
              "      <td>-1.196258</td>\n",
              "      <td>-0.230922</td>\n",
              "      <td>-0.348223</td>\n",
              "      <td>-0.337128</td>\n",
              "      <td>-0.112406</td>\n",
              "      <td>-0.031783</td>\n",
              "    </tr>\n",
              "    <tr>\n",
              "      <th>3</th>\n",
              "      <td>-0.736862</td>\n",
              "      <td>0.458721</td>\n",
              "      <td>-0.198450</td>\n",
              "      <td>1.121758</td>\n",
              "      <td>0.242661</td>\n",
              "      <td>-0.347259</td>\n",
              "      <td>-0.726165</td>\n",
              "      <td>-2.888517</td>\n",
              "      <td>-0.429889</td>\n",
              "      <td>-0.348223</td>\n",
              "      <td>-0.337128</td>\n",
              "      <td>-0.112406</td>\n",
              "      <td>-0.029772</td>\n",
              "    </tr>\n",
              "    <tr>\n",
              "      <th>4</th>\n",
              "      <td>-0.759272</td>\n",
              "      <td>-0.316031</td>\n",
              "      <td>2.025290</td>\n",
              "      <td>-0.974318</td>\n",
              "      <td>1.096367</td>\n",
              "      <td>0.545404</td>\n",
              "      <td>0.704215</td>\n",
              "      <td>0.983545</td>\n",
              "      <td>0.564944</td>\n",
              "      <td>-0.348223</td>\n",
              "      <td>-0.337128</td>\n",
              "      <td>-0.112406</td>\n",
              "      <td>0.038936</td>\n",
              "    </tr>\n",
              "  </tbody>\n",
              "</table>\n",
              "</div>"
            ],
            "text/plain": [
              "        EMI  Credit.Score  ...  Tax.Liens  Available.Credits\n",
              "0 -0.731371     -0.516752  ...  -0.112406          -0.035549\n",
              "1 -0.674488      0.458721  ...  -0.112406          -0.034596\n",
              "2  0.841213     -0.368578  ...  -0.112406          -0.031783\n",
              "3 -0.736862      0.458721  ...  -0.112406          -0.029772\n",
              "4 -0.759272     -0.316031  ...  -0.112406           0.038936\n",
              "\n",
              "[5 rows x 13 columns]"
            ]
          },
          "metadata": {
            "tags": []
          },
          "execution_count": 313
        }
      ]
    },
    {
      "cell_type": "code",
      "metadata": {
        "id": "Su0YBKpbqDqx",
        "colab_type": "code",
        "colab": {}
      },
      "source": [
        "Y_predict_test = model.predict(X_test)\n",
        "Y_predict_test = Y_predict_test"
      ],
      "execution_count": null,
      "outputs": []
    },
    {
      "cell_type": "code",
      "metadata": {
        "id": "gTdI83LVL3Rl",
        "colab_type": "code",
        "colab": {
          "base_uri": "https://localhost:8080/",
          "height": 34
        },
        "outputId": "273e2b7b-bd65-40c9-ac87-e2ea0475e869"
      },
      "source": [
        "Y_predict_test"
      ],
      "execution_count": null,
      "outputs": [
        {
          "output_type": "execute_result",
          "data": {
            "text/plain": [
              "array([1, 1, 1, ..., 1, 1, 1], dtype=int64)"
            ]
          },
          "metadata": {
            "tags": []
          },
          "execution_count": 359
        }
      ]
    },
    {
      "cell_type": "code",
      "metadata": {
        "id": "sEmiVbFimAq3",
        "colab_type": "code",
        "colab": {
          "base_uri": "https://localhost:8080/",
          "height": 669
        },
        "outputId": "f0a4de42-606b-479b-fb4f-81f4e8e6ec48"
      },
      "source": [
        "Y_test = pd.DataFrame({'Loan.ID': ID_test, 'Loan.Status': Y_predict_test})\n",
        "Y_test.head(20)"
      ],
      "execution_count": null,
      "outputs": [
        {
          "output_type": "execute_result",
          "data": {
            "text/html": [
              "<div>\n",
              "<style scoped>\n",
              "    .dataframe tbody tr th:only-of-type {\n",
              "        vertical-align: middle;\n",
              "    }\n",
              "\n",
              "    .dataframe tbody tr th {\n",
              "        vertical-align: top;\n",
              "    }\n",
              "\n",
              "    .dataframe thead th {\n",
              "        text-align: right;\n",
              "    }\n",
              "</style>\n",
              "<table border=\"1\" class=\"dataframe\">\n",
              "  <thead>\n",
              "    <tr style=\"text-align: right;\">\n",
              "      <th></th>\n",
              "      <th>Loan.ID</th>\n",
              "      <th>Loan.Status</th>\n",
              "    </tr>\n",
              "  </thead>\n",
              "  <tbody>\n",
              "    <tr>\n",
              "      <th>0</th>\n",
              "      <td>2</td>\n",
              "      <td>1</td>\n",
              "    </tr>\n",
              "    <tr>\n",
              "      <th>1</th>\n",
              "      <td>6</td>\n",
              "      <td>1</td>\n",
              "    </tr>\n",
              "    <tr>\n",
              "      <th>2</th>\n",
              "      <td>9</td>\n",
              "      <td>1</td>\n",
              "    </tr>\n",
              "    <tr>\n",
              "      <th>3</th>\n",
              "      <td>12</td>\n",
              "      <td>1</td>\n",
              "    </tr>\n",
              "    <tr>\n",
              "      <th>4</th>\n",
              "      <td>14</td>\n",
              "      <td>1</td>\n",
              "    </tr>\n",
              "    <tr>\n",
              "      <th>5</th>\n",
              "      <td>20</td>\n",
              "      <td>1</td>\n",
              "    </tr>\n",
              "    <tr>\n",
              "      <th>6</th>\n",
              "      <td>24</td>\n",
              "      <td>0</td>\n",
              "    </tr>\n",
              "    <tr>\n",
              "      <th>7</th>\n",
              "      <td>27</td>\n",
              "      <td>1</td>\n",
              "    </tr>\n",
              "    <tr>\n",
              "      <th>8</th>\n",
              "      <td>30</td>\n",
              "      <td>1</td>\n",
              "    </tr>\n",
              "    <tr>\n",
              "      <th>9</th>\n",
              "      <td>32</td>\n",
              "      <td>1</td>\n",
              "    </tr>\n",
              "    <tr>\n",
              "      <th>10</th>\n",
              "      <td>38</td>\n",
              "      <td>1</td>\n",
              "    </tr>\n",
              "    <tr>\n",
              "      <th>11</th>\n",
              "      <td>42</td>\n",
              "      <td>1</td>\n",
              "    </tr>\n",
              "    <tr>\n",
              "      <th>12</th>\n",
              "      <td>45</td>\n",
              "      <td>1</td>\n",
              "    </tr>\n",
              "    <tr>\n",
              "      <th>13</th>\n",
              "      <td>48</td>\n",
              "      <td>1</td>\n",
              "    </tr>\n",
              "    <tr>\n",
              "      <th>14</th>\n",
              "      <td>50</td>\n",
              "      <td>1</td>\n",
              "    </tr>\n",
              "    <tr>\n",
              "      <th>15</th>\n",
              "      <td>56</td>\n",
              "      <td>1</td>\n",
              "    </tr>\n",
              "    <tr>\n",
              "      <th>16</th>\n",
              "      <td>60</td>\n",
              "      <td>1</td>\n",
              "    </tr>\n",
              "    <tr>\n",
              "      <th>17</th>\n",
              "      <td>63</td>\n",
              "      <td>1</td>\n",
              "    </tr>\n",
              "    <tr>\n",
              "      <th>18</th>\n",
              "      <td>66</td>\n",
              "      <td>1</td>\n",
              "    </tr>\n",
              "    <tr>\n",
              "      <th>19</th>\n",
              "      <td>68</td>\n",
              "      <td>1</td>\n",
              "    </tr>\n",
              "  </tbody>\n",
              "</table>\n",
              "</div>"
            ],
            "text/plain": [
              "    Loan.ID  Loan.Status\n",
              "0         2            1\n",
              "1         6            1\n",
              "2         9            1\n",
              "3        12            1\n",
              "4        14            1\n",
              "5        20            1\n",
              "6        24            0\n",
              "7        27            1\n",
              "8        30            1\n",
              "9        32            1\n",
              "10       38            1\n",
              "11       42            1\n",
              "12       45            1\n",
              "13       48            1\n",
              "14       50            1\n",
              "15       56            1\n",
              "16       60            1\n",
              "17       63            1\n",
              "18       66            1\n",
              "19       68            1"
            ]
          },
          "metadata": {
            "tags": []
          },
          "execution_count": 360
        }
      ]
    },
    {
      "cell_type": "code",
      "metadata": {
        "id": "krM2iN_b4R7U",
        "colab_type": "code",
        "colab": {}
      },
      "source": [
        "Y_test.to_csv('Submission.csv', header=True, index=False)"
      ],
      "execution_count": null,
      "outputs": []
    }
  ]
}